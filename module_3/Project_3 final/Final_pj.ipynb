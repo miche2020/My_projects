{
 "cells": [
  {
   "cell_type": "markdown",
   "metadata": {},
   "source": [
    "![](https://www.pata.org/wp-content/uploads/2014/09/TripAdvisor_Logo-300x119.png)\n",
    "# Predict TripAdvisor Rating\n",
    "## В этом соревновании нам предстоит предсказать рейтинг ресторана в TripAdvisor\n",
    "**По ходу задачи:**\n",
    "* Прокачаем работу с pandas\n",
    "* Научимся работать с Kaggle Notebooks\n",
    "* Поймем как делать предобработку различных данных\n",
    "* Научимся работать с пропущенными данными (Nan)\n",
    "* Познакомимся с различными видами кодирования признаков\n",
    "* Немного попробуем [Feature Engineering](https://ru.wikipedia.org/wiki/Конструирование_признаков) (генерировать новые признаки)\n",
    "* И совсем немного затронем ML\n",
    "* И многое другое...   \n",
    "\n",
    "\n",
    "\n",
    "### И самое важное, все это вы сможете сделать самостоятельно!\n",
    "\n",
    "*Этот Ноутбук являетсся Примером/Шаблоном к этому соревнованию (Baseline) и не служит готовым решением!*   \n",
    "Вы можете использовать его как основу для построения своего решения.\n",
    "\n",
    "> что такое baseline решение, зачем оно нужно и почему предоставлять baseline к соревнованию стало важным стандартом на kaggle и других площадках.   \n",
    "**baseline** создается больше как шаблон, где можно посмотреть как происходит обращение с входящими данными и что нужно получить на выходе. При этом МЛ начинка может быть достаточно простой, просто для примера. Это помогает быстрее приступить к самому МЛ, а не тратить ценное время на чисто инженерные задачи. \n",
    "Также baseline являеться хорошей опорной точкой по метрике. Если твое решение хуже baseline - ты явно делаешь что-то не то и стоит попробовать другой путь) \n",
    "\n",
    "В контексте нашего соревнования baseline идет с небольшими примерами того, что можно делать с данными, и с инструкцией, что делать дальше, чтобы улучшить результат.  Вообще готовым решением это сложно назвать, так как используются всего 2 самых простых признака (а остальные исключаются)."
   ]
  },
  {
   "cell_type": "markdown",
   "metadata": {},
   "source": [
    "# import"
   ]
  },
  {
   "cell_type": "code",
   "execution_count": 262,
   "metadata": {
    "_cell_guid": "b1076dfc-b9ad-4769-8c92-a6c4dae69d19",
    "_uuid": "8f2839f25d086af736a60e9eeb907d3b93b6e0e5"
   },
   "outputs": [],
   "source": [
    "# This Python 3 environment comes with many helpful analytics libraries installed\n",
    "# It is defined by the kaggle/python docker image: https://github.com/kaggle/docker-python\n",
    "# For example, here's several helpful packages to load in \n",
    "\n",
    "import numpy as np # linear algebra\n",
    "import pandas as pd # data processing, CSV file I/O (e.g. pd.read_csv)\n",
    "\n",
    "import matplotlib.pyplot as plt\n",
    "import seaborn as sns \n",
    "%matplotlib inline\n",
    "\n",
    "from itertools import combinations\n",
    "from scipy.stats import ttest_ind\n",
    "import statsmodels.api as sm\n",
    "import scipy.stats as sst\n",
    "from collections import Counter\n",
    "import re\n",
    "\n",
    "from sklearn.preprocessing import MinMaxScaler\n",
    "from sklearn.preprocessing import StandardScaler\n",
    "from sklearn.preprocessing import PolynomialFeatures\n",
    "\n",
    "#для анализа тональности отзыва\n",
    "from textblob import TextBlob\n",
    "\n",
    "# Загружаем специальный удобный инструмент для разделения датасета:\n",
    "from sklearn.model_selection import train_test_split\n",
    "\n",
    "from sklearn.ensemble import RandomForestRegressor # инструмент для создания и обучения модели\n",
    "from sklearn import metrics # инструменты для оценки точности модели\n",
    "\n",
    "# Input data files are available in the \"../input/\" directory.\n",
    "# For example, running this (by clicking run or pressing Shift+Enter) will list all files under the input directory\n",
    "\n",
    "import os\n",
    "\n",
    "filenames_list = []\n",
    "for dirname, _, filenames in os.walk('/kaggle/input'):\n",
    "    for filename in filenames:\n",
    "        print(os.path.join(dirname, filename))\n",
    "        filenames_list.append(os.path.join(dirname, filename))\n",
    "\n",
    "# Any results you write to the current directory are saved as output.\n",
    "import datetime"
   ]
  },
  {
   "cell_type": "markdown",
   "metadata": {},
   "source": [
    "Methods"
   ]
  },
  {
   "cell_type": "code",
   "execution_count": 263,
   "metadata": {},
   "outputs": [],
   "source": [
    "# Функция для округления рейтинга\n",
    "def find_item(cell):\n",
    "    if item in cell:\n",
    "        return 1\n",
    "    return 0\n",
    "def round_of_rating(number):\n",
    "    return np.round(number * 2) / 2"
   ]
  },
  {
   "cell_type": "code",
   "execution_count": 264,
   "metadata": {},
   "outputs": [],
   "source": [
    "# всегда фиксируйте RANDOM_SEED, чтобы ваши эксперименты были воспроизводимы!\n",
    "RANDOM_SEED = 42"
   ]
  },
  {
   "cell_type": "code",
   "execution_count": 265,
   "metadata": {},
   "outputs": [],
   "source": [
    "# зафиксируем версию пакетов, чтобы эксперименты были воспроизводимы:\n",
    "!pip freeze > requirements.txt"
   ]
  },
  {
   "cell_type": "markdown",
   "metadata": {},
   "source": [
    "# DATA"
   ]
  },
  {
   "cell_type": "code",
   "execution_count": 266,
   "metadata": {
    "_cell_guid": "79c7e3d0-c299-4dcb-8224-4455121ee9b0",
    "_uuid": "d629ff2d2480ee46fbb7e2d37f6b5fab8052498a"
   },
   "outputs": [],
   "source": [
    "df_train = pd.read_csv('main_task.csv')\n",
    "df_test = pd.read_csv('kaggle_task.csv')\n",
    "sample_submission = pd.read_csv('sample_submission.csv')"
   ]
  },
  {
   "cell_type": "code",
   "execution_count": 267,
   "metadata": {},
   "outputs": [
    {
     "name": "stdout",
     "output_type": "stream",
     "text": [
      "<class 'pandas.core.frame.DataFrame'>\n",
      "RangeIndex: 40000 entries, 0 to 39999\n",
      "Data columns (total 10 columns):\n",
      " #   Column             Non-Null Count  Dtype  \n",
      "---  ------             --------------  -----  \n",
      " 0   Restaurant_id      40000 non-null  object \n",
      " 1   City               40000 non-null  object \n",
      " 2   Cuisine Style      30717 non-null  object \n",
      " 3   Ranking            40000 non-null  float64\n",
      " 4   Rating             40000 non-null  float64\n",
      " 5   Price Range        26114 non-null  object \n",
      " 6   Number of Reviews  37457 non-null  float64\n",
      " 7   Reviews            40000 non-null  object \n",
      " 8   URL_TA             40000 non-null  object \n",
      " 9   ID_TA              40000 non-null  object \n",
      "dtypes: float64(3), object(7)\n",
      "memory usage: 3.1+ MB\n"
     ]
    }
   ],
   "source": [
    "df_train.info()"
   ]
  },
  {
   "cell_type": "code",
   "execution_count": 268,
   "metadata": {},
   "outputs": [
    {
     "data": {
      "text/html": [
       "<div>\n",
       "<style scoped>\n",
       "    .dataframe tbody tr th:only-of-type {\n",
       "        vertical-align: middle;\n",
       "    }\n",
       "\n",
       "    .dataframe tbody tr th {\n",
       "        vertical-align: top;\n",
       "    }\n",
       "\n",
       "    .dataframe thead th {\n",
       "        text-align: right;\n",
       "    }\n",
       "</style>\n",
       "<table border=\"1\" class=\"dataframe\">\n",
       "  <thead>\n",
       "    <tr style=\"text-align: right;\">\n",
       "      <th></th>\n",
       "      <th>Restaurant_id</th>\n",
       "      <th>City</th>\n",
       "      <th>Cuisine Style</th>\n",
       "      <th>Ranking</th>\n",
       "      <th>Rating</th>\n",
       "      <th>Price Range</th>\n",
       "      <th>Number of Reviews</th>\n",
       "      <th>Reviews</th>\n",
       "      <th>URL_TA</th>\n",
       "      <th>ID_TA</th>\n",
       "    </tr>\n",
       "  </thead>\n",
       "  <tbody>\n",
       "    <tr>\n",
       "      <th>0</th>\n",
       "      <td>id_5569</td>\n",
       "      <td>Paris</td>\n",
       "      <td>['European', 'French', 'International']</td>\n",
       "      <td>5570.0</td>\n",
       "      <td>3.5</td>\n",
       "      <td>$$ - $$$</td>\n",
       "      <td>194.0</td>\n",
       "      <td>[['Good food at your doorstep', 'A good hotel ...</td>\n",
       "      <td>/Restaurant_Review-g187147-d1912643-Reviews-R_...</td>\n",
       "      <td>d1912643</td>\n",
       "    </tr>\n",
       "    <tr>\n",
       "      <th>1</th>\n",
       "      <td>id_1535</td>\n",
       "      <td>Stockholm</td>\n",
       "      <td>NaN</td>\n",
       "      <td>1537.0</td>\n",
       "      <td>4.0</td>\n",
       "      <td>NaN</td>\n",
       "      <td>10.0</td>\n",
       "      <td>[['Unique cuisine', 'Delicious Nepalese food']...</td>\n",
       "      <td>/Restaurant_Review-g189852-d7992032-Reviews-Bu...</td>\n",
       "      <td>d7992032</td>\n",
       "    </tr>\n",
       "    <tr>\n",
       "      <th>2</th>\n",
       "      <td>id_352</td>\n",
       "      <td>London</td>\n",
       "      <td>['Japanese', 'Sushi', 'Asian', 'Grill', 'Veget...</td>\n",
       "      <td>353.0</td>\n",
       "      <td>4.5</td>\n",
       "      <td>$$$$</td>\n",
       "      <td>688.0</td>\n",
       "      <td>[['Catch up with friends', 'Not exceptional'],...</td>\n",
       "      <td>/Restaurant_Review-g186338-d8632781-Reviews-RO...</td>\n",
       "      <td>d8632781</td>\n",
       "    </tr>\n",
       "    <tr>\n",
       "      <th>3</th>\n",
       "      <td>id_3456</td>\n",
       "      <td>Berlin</td>\n",
       "      <td>NaN</td>\n",
       "      <td>3458.0</td>\n",
       "      <td>5.0</td>\n",
       "      <td>NaN</td>\n",
       "      <td>3.0</td>\n",
       "      <td>[[], []]</td>\n",
       "      <td>/Restaurant_Review-g187323-d1358776-Reviews-Es...</td>\n",
       "      <td>d1358776</td>\n",
       "    </tr>\n",
       "    <tr>\n",
       "      <th>4</th>\n",
       "      <td>id_615</td>\n",
       "      <td>Munich</td>\n",
       "      <td>['German', 'Central European', 'Vegetarian Fri...</td>\n",
       "      <td>621.0</td>\n",
       "      <td>4.0</td>\n",
       "      <td>$$ - $$$</td>\n",
       "      <td>84.0</td>\n",
       "      <td>[['Best place to try a Bavarian food', 'Nice b...</td>\n",
       "      <td>/Restaurant_Review-g187309-d6864963-Reviews-Au...</td>\n",
       "      <td>d6864963</td>\n",
       "    </tr>\n",
       "  </tbody>\n",
       "</table>\n",
       "</div>"
      ],
      "text/plain": [
       "  Restaurant_id       City                                      Cuisine Style  \\\n",
       "0       id_5569      Paris            ['European', 'French', 'International']   \n",
       "1       id_1535  Stockholm                                                NaN   \n",
       "2        id_352     London  ['Japanese', 'Sushi', 'Asian', 'Grill', 'Veget...   \n",
       "3       id_3456     Berlin                                                NaN   \n",
       "4        id_615     Munich  ['German', 'Central European', 'Vegetarian Fri...   \n",
       "\n",
       "   Ranking  Rating Price Range  Number of Reviews  \\\n",
       "0   5570.0     3.5    $$ - $$$              194.0   \n",
       "1   1537.0     4.0         NaN               10.0   \n",
       "2    353.0     4.5        $$$$              688.0   \n",
       "3   3458.0     5.0         NaN                3.0   \n",
       "4    621.0     4.0    $$ - $$$               84.0   \n",
       "\n",
       "                                             Reviews  \\\n",
       "0  [['Good food at your doorstep', 'A good hotel ...   \n",
       "1  [['Unique cuisine', 'Delicious Nepalese food']...   \n",
       "2  [['Catch up with friends', 'Not exceptional'],...   \n",
       "3                                           [[], []]   \n",
       "4  [['Best place to try a Bavarian food', 'Nice b...   \n",
       "\n",
       "                                              URL_TA     ID_TA  \n",
       "0  /Restaurant_Review-g187147-d1912643-Reviews-R_...  d1912643  \n",
       "1  /Restaurant_Review-g189852-d7992032-Reviews-Bu...  d7992032  \n",
       "2  /Restaurant_Review-g186338-d8632781-Reviews-RO...  d8632781  \n",
       "3  /Restaurant_Review-g187323-d1358776-Reviews-Es...  d1358776  \n",
       "4  /Restaurant_Review-g187309-d6864963-Reviews-Au...  d6864963  "
      ]
     },
     "execution_count": 268,
     "metadata": {},
     "output_type": "execute_result"
    }
   ],
   "source": [
    "df_train.head(5)"
   ]
  },
  {
   "cell_type": "code",
   "execution_count": 269,
   "metadata": {},
   "outputs": [
    {
     "name": "stdout",
     "output_type": "stream",
     "text": [
      "<class 'pandas.core.frame.DataFrame'>\n",
      "RangeIndex: 10000 entries, 0 to 9999\n",
      "Data columns (total 9 columns):\n",
      " #   Column             Non-Null Count  Dtype  \n",
      "---  ------             --------------  -----  \n",
      " 0   Restaurant_id      10000 non-null  object \n",
      " 1   City               10000 non-null  object \n",
      " 2   Cuisine Style      7693 non-null   object \n",
      " 3   Ranking            10000 non-null  float64\n",
      " 4   Price Range        6525 non-null   object \n",
      " 5   Number of Reviews  9343 non-null   float64\n",
      " 6   Reviews            9998 non-null   object \n",
      " 7   URL_TA             10000 non-null  object \n",
      " 8   ID_TA              10000 non-null  object \n",
      "dtypes: float64(2), object(7)\n",
      "memory usage: 703.2+ KB\n"
     ]
    }
   ],
   "source": [
    "df_test.info()"
   ]
  },
  {
   "cell_type": "code",
   "execution_count": 270,
   "metadata": {},
   "outputs": [
    {
     "data": {
      "text/html": [
       "<div>\n",
       "<style scoped>\n",
       "    .dataframe tbody tr th:only-of-type {\n",
       "        vertical-align: middle;\n",
       "    }\n",
       "\n",
       "    .dataframe tbody tr th {\n",
       "        vertical-align: top;\n",
       "    }\n",
       "\n",
       "    .dataframe thead th {\n",
       "        text-align: right;\n",
       "    }\n",
       "</style>\n",
       "<table border=\"1\" class=\"dataframe\">\n",
       "  <thead>\n",
       "    <tr style=\"text-align: right;\">\n",
       "      <th></th>\n",
       "      <th>Restaurant_id</th>\n",
       "      <th>City</th>\n",
       "      <th>Cuisine Style</th>\n",
       "      <th>Ranking</th>\n",
       "      <th>Price Range</th>\n",
       "      <th>Number of Reviews</th>\n",
       "      <th>Reviews</th>\n",
       "      <th>URL_TA</th>\n",
       "      <th>ID_TA</th>\n",
       "    </tr>\n",
       "  </thead>\n",
       "  <tbody>\n",
       "    <tr>\n",
       "      <th>0</th>\n",
       "      <td>id_0</td>\n",
       "      <td>Paris</td>\n",
       "      <td>['Bar', 'Pub']</td>\n",
       "      <td>12963.0</td>\n",
       "      <td>$$ - $$$</td>\n",
       "      <td>4.0</td>\n",
       "      <td>[[], []]</td>\n",
       "      <td>/Restaurant_Review-g187147-d10746918-Reviews-L...</td>\n",
       "      <td>d10746918</td>\n",
       "    </tr>\n",
       "    <tr>\n",
       "      <th>1</th>\n",
       "      <td>id_1</td>\n",
       "      <td>Helsinki</td>\n",
       "      <td>['European', 'Scandinavian', 'Gluten Free Opti...</td>\n",
       "      <td>106.0</td>\n",
       "      <td>$$ - $$$</td>\n",
       "      <td>97.0</td>\n",
       "      <td>[['Very good reviews!', 'Fine dining in Hakani...</td>\n",
       "      <td>/Restaurant_Review-g189934-d6674944-Reviews-Ra...</td>\n",
       "      <td>d6674944</td>\n",
       "    </tr>\n",
       "    <tr>\n",
       "      <th>2</th>\n",
       "      <td>id_2</td>\n",
       "      <td>Edinburgh</td>\n",
       "      <td>['Vegetarian Friendly']</td>\n",
       "      <td>810.0</td>\n",
       "      <td>$$ - $$$</td>\n",
       "      <td>28.0</td>\n",
       "      <td>[['Better than the Links', 'Ivy Black'], ['12/...</td>\n",
       "      <td>/Restaurant_Review-g186525-d13129638-Reviews-B...</td>\n",
       "      <td>d13129638</td>\n",
       "    </tr>\n",
       "    <tr>\n",
       "      <th>3</th>\n",
       "      <td>id_3</td>\n",
       "      <td>London</td>\n",
       "      <td>['Italian', 'Mediterranean', 'European', 'Vege...</td>\n",
       "      <td>1669.0</td>\n",
       "      <td>$$$$</td>\n",
       "      <td>202.0</td>\n",
       "      <td>[['Most exquisite', 'Delicious and authentic']...</td>\n",
       "      <td>/Restaurant_Review-g186338-d680417-Reviews-Qui...</td>\n",
       "      <td>d680417</td>\n",
       "    </tr>\n",
       "    <tr>\n",
       "      <th>4</th>\n",
       "      <td>id_4</td>\n",
       "      <td>Bratislava</td>\n",
       "      <td>['Italian', 'Mediterranean', 'European', 'Seaf...</td>\n",
       "      <td>37.0</td>\n",
       "      <td>$$$$</td>\n",
       "      <td>162.0</td>\n",
       "      <td>[['Always the best in bratislava', 'Very good ...</td>\n",
       "      <td>/Restaurant_Review-g274924-d1112354-Reviews-Ma...</td>\n",
       "      <td>d1112354</td>\n",
       "    </tr>\n",
       "  </tbody>\n",
       "</table>\n",
       "</div>"
      ],
      "text/plain": [
       "  Restaurant_id        City  \\\n",
       "0          id_0       Paris   \n",
       "1          id_1    Helsinki   \n",
       "2          id_2   Edinburgh   \n",
       "3          id_3      London   \n",
       "4          id_4  Bratislava   \n",
       "\n",
       "                                       Cuisine Style  Ranking Price Range  \\\n",
       "0                                     ['Bar', 'Pub']  12963.0    $$ - $$$   \n",
       "1  ['European', 'Scandinavian', 'Gluten Free Opti...    106.0    $$ - $$$   \n",
       "2                            ['Vegetarian Friendly']    810.0    $$ - $$$   \n",
       "3  ['Italian', 'Mediterranean', 'European', 'Vege...   1669.0        $$$$   \n",
       "4  ['Italian', 'Mediterranean', 'European', 'Seaf...     37.0        $$$$   \n",
       "\n",
       "   Number of Reviews                                            Reviews  \\\n",
       "0                4.0                                           [[], []]   \n",
       "1               97.0  [['Very good reviews!', 'Fine dining in Hakani...   \n",
       "2               28.0  [['Better than the Links', 'Ivy Black'], ['12/...   \n",
       "3              202.0  [['Most exquisite', 'Delicious and authentic']...   \n",
       "4              162.0  [['Always the best in bratislava', 'Very good ...   \n",
       "\n",
       "                                              URL_TA      ID_TA  \n",
       "0  /Restaurant_Review-g187147-d10746918-Reviews-L...  d10746918  \n",
       "1  /Restaurant_Review-g189934-d6674944-Reviews-Ra...   d6674944  \n",
       "2  /Restaurant_Review-g186525-d13129638-Reviews-B...  d13129638  \n",
       "3  /Restaurant_Review-g186338-d680417-Reviews-Qui...    d680417  \n",
       "4  /Restaurant_Review-g274924-d1112354-Reviews-Ma...   d1112354  "
      ]
     },
     "execution_count": 270,
     "metadata": {},
     "output_type": "execute_result"
    }
   ],
   "source": [
    "df_test.head(5)"
   ]
  },
  {
   "cell_type": "code",
   "execution_count": 271,
   "metadata": {},
   "outputs": [
    {
     "data": {
      "text/html": [
       "<div>\n",
       "<style scoped>\n",
       "    .dataframe tbody tr th:only-of-type {\n",
       "        vertical-align: middle;\n",
       "    }\n",
       "\n",
       "    .dataframe tbody tr th {\n",
       "        vertical-align: top;\n",
       "    }\n",
       "\n",
       "    .dataframe thead th {\n",
       "        text-align: right;\n",
       "    }\n",
       "</style>\n",
       "<table border=\"1\" class=\"dataframe\">\n",
       "  <thead>\n",
       "    <tr style=\"text-align: right;\">\n",
       "      <th></th>\n",
       "      <th>Restaurant_id</th>\n",
       "      <th>Rating</th>\n",
       "    </tr>\n",
       "  </thead>\n",
       "  <tbody>\n",
       "    <tr>\n",
       "      <th>0</th>\n",
       "      <td>id_0</td>\n",
       "      <td>2.0</td>\n",
       "    </tr>\n",
       "    <tr>\n",
       "      <th>1</th>\n",
       "      <td>id_1</td>\n",
       "      <td>2.5</td>\n",
       "    </tr>\n",
       "    <tr>\n",
       "      <th>2</th>\n",
       "      <td>id_2</td>\n",
       "      <td>4.0</td>\n",
       "    </tr>\n",
       "    <tr>\n",
       "      <th>3</th>\n",
       "      <td>id_3</td>\n",
       "      <td>1.0</td>\n",
       "    </tr>\n",
       "    <tr>\n",
       "      <th>4</th>\n",
       "      <td>id_4</td>\n",
       "      <td>4.0</td>\n",
       "    </tr>\n",
       "  </tbody>\n",
       "</table>\n",
       "</div>"
      ],
      "text/plain": [
       "  Restaurant_id  Rating\n",
       "0          id_0     2.0\n",
       "1          id_1     2.5\n",
       "2          id_2     4.0\n",
       "3          id_3     1.0\n",
       "4          id_4     4.0"
      ]
     },
     "execution_count": 271,
     "metadata": {},
     "output_type": "execute_result"
    }
   ],
   "source": [
    "sample_submission.head(5)"
   ]
  },
  {
   "cell_type": "code",
   "execution_count": 272,
   "metadata": {},
   "outputs": [
    {
     "name": "stdout",
     "output_type": "stream",
     "text": [
      "<class 'pandas.core.frame.DataFrame'>\n",
      "RangeIndex: 10000 entries, 0 to 9999\n",
      "Data columns (total 2 columns):\n",
      " #   Column         Non-Null Count  Dtype  \n",
      "---  ------         --------------  -----  \n",
      " 0   Restaurant_id  10000 non-null  object \n",
      " 1   Rating         10000 non-null  float64\n",
      "dtypes: float64(1), object(1)\n",
      "memory usage: 156.4+ KB\n"
     ]
    }
   ],
   "source": [
    "sample_submission.info()"
   ]
  },
  {
   "cell_type": "code",
   "execution_count": 273,
   "metadata": {},
   "outputs": [],
   "source": [
    "# ВАЖНО! дря корректной обработки признаков объединяем трейн и тест в один датасет\n",
    "df_train['sample'] = 1 # помечаем где у нас трейн\n",
    "df_test['sample'] = 0 # помечаем где у нас тест\n",
    "df_test['Rating'] = 0 # в тесте у нас нет значения Rating, мы его должны предсказать, по этому пока просто заполняем нулями\n",
    "\n",
    "data = df_test.append(df_train, sort=False).reset_index(drop=True) # объединяем"
   ]
  },
  {
   "cell_type": "code",
   "execution_count": 274,
   "metadata": {},
   "outputs": [
    {
     "name": "stdout",
     "output_type": "stream",
     "text": [
      "<class 'pandas.core.frame.DataFrame'>\n",
      "RangeIndex: 50000 entries, 0 to 49999\n",
      "Data columns (total 11 columns):\n",
      " #   Column             Non-Null Count  Dtype  \n",
      "---  ------             --------------  -----  \n",
      " 0   Restaurant_id      50000 non-null  object \n",
      " 1   City               50000 non-null  object \n",
      " 2   Cuisine Style      38410 non-null  object \n",
      " 3   Ranking            50000 non-null  float64\n",
      " 4   Price Range        32639 non-null  object \n",
      " 5   Number of Reviews  46800 non-null  float64\n",
      " 6   Reviews            49998 non-null  object \n",
      " 7   URL_TA             50000 non-null  object \n",
      " 8   ID_TA              50000 non-null  object \n",
      " 9   sample             50000 non-null  int64  \n",
      " 10  Rating             50000 non-null  float64\n",
      "dtypes: float64(3), int64(1), object(7)\n",
      "memory usage: 4.2+ MB\n"
     ]
    }
   ],
   "source": [
    "data.info()"
   ]
  },
  {
   "cell_type": "markdown",
   "metadata": {},
   "source": [
    "Подробнее по признакам:\n",
    "* City: Город \n",
    "* Cuisine Style: Кухня\n",
    "* Ranking: Ранг ресторана относительно других ресторанов в этом городе\n",
    "* Price Range: Цены в ресторане в 3 категориях\n",
    "* Number of Reviews: Количество отзывов\n",
    "* Reviews: 2 последних отзыва и даты этих отзывов\n",
    "* URL_TA: страница ресторана на 'www.tripadvisor.com' \n",
    "* ID_TA: ID ресторана в TripAdvisor\n",
    "* Rating: Рейтинг ресторана"
   ]
  },
  {
   "cell_type": "code",
   "execution_count": 275,
   "metadata": {},
   "outputs": [
    {
     "data": {
      "text/html": [
       "<div>\n",
       "<style scoped>\n",
       "    .dataframe tbody tr th:only-of-type {\n",
       "        vertical-align: middle;\n",
       "    }\n",
       "\n",
       "    .dataframe tbody tr th {\n",
       "        vertical-align: top;\n",
       "    }\n",
       "\n",
       "    .dataframe thead th {\n",
       "        text-align: right;\n",
       "    }\n",
       "</style>\n",
       "<table border=\"1\" class=\"dataframe\">\n",
       "  <thead>\n",
       "    <tr style=\"text-align: right;\">\n",
       "      <th></th>\n",
       "      <th>Restaurant_id</th>\n",
       "      <th>City</th>\n",
       "      <th>Cuisine Style</th>\n",
       "      <th>Ranking</th>\n",
       "      <th>Price Range</th>\n",
       "      <th>Number of Reviews</th>\n",
       "      <th>Reviews</th>\n",
       "      <th>URL_TA</th>\n",
       "      <th>ID_TA</th>\n",
       "      <th>sample</th>\n",
       "      <th>Rating</th>\n",
       "    </tr>\n",
       "  </thead>\n",
       "  <tbody>\n",
       "    <tr>\n",
       "      <th>6759</th>\n",
       "      <td>id_6759</td>\n",
       "      <td>Stockholm</td>\n",
       "      <td>NaN</td>\n",
       "      <td>1388.0</td>\n",
       "      <td>NaN</td>\n",
       "      <td>3.0</td>\n",
       "      <td>[['Good food, friendly service', 'Pleasant sta...</td>\n",
       "      <td>/Restaurant_Review-g189852-d12875346-Reviews-C...</td>\n",
       "      <td>d12875346</td>\n",
       "      <td>0</td>\n",
       "      <td>0.0</td>\n",
       "    </tr>\n",
       "    <tr>\n",
       "      <th>19989</th>\n",
       "      <td>id_5868</td>\n",
       "      <td>Milan</td>\n",
       "      <td>NaN</td>\n",
       "      <td>5871.0</td>\n",
       "      <td>NaN</td>\n",
       "      <td>52.0</td>\n",
       "      <td>[['Great coffee, tourist trap prices', 'To avo...</td>\n",
       "      <td>/Restaurant_Review-g187849-d7134848-Reviews-An...</td>\n",
       "      <td>d7134848</td>\n",
       "      <td>1</td>\n",
       "      <td>2.5</td>\n",
       "    </tr>\n",
       "    <tr>\n",
       "      <th>22144</th>\n",
       "      <td>id_666</td>\n",
       "      <td>Lisbon</td>\n",
       "      <td>['European', 'Portuguese']</td>\n",
       "      <td>667.0</td>\n",
       "      <td>$</td>\n",
       "      <td>242.0</td>\n",
       "      <td>[['What a great little spot.', 'Marvellous Cak...</td>\n",
       "      <td>/Restaurant_Review-g189158-d4351910-Reviews-Ca...</td>\n",
       "      <td>d4351910</td>\n",
       "      <td>1</td>\n",
       "      <td>4.0</td>\n",
       "    </tr>\n",
       "    <tr>\n",
       "      <th>17341</th>\n",
       "      <td>id_1018</td>\n",
       "      <td>Milan</td>\n",
       "      <td>NaN</td>\n",
       "      <td>1020.0</td>\n",
       "      <td>NaN</td>\n",
       "      <td>27.0</td>\n",
       "      <td>[['Milan', 'Nice Restaurant'], ['11/03/2017', ...</td>\n",
       "      <td>/Restaurant_Review-g187849-d12666436-Reviews-L...</td>\n",
       "      <td>d12666436</td>\n",
       "      <td>1</td>\n",
       "      <td>4.5</td>\n",
       "    </tr>\n",
       "    <tr>\n",
       "      <th>33566</th>\n",
       "      <td>id_520</td>\n",
       "      <td>Lisbon</td>\n",
       "      <td>['German', 'Vegetarian Friendly', 'Gluten Free...</td>\n",
       "      <td>521.0</td>\n",
       "      <td>$$ - $$$</td>\n",
       "      <td>266.0</td>\n",
       "      <td>[['Great spot for German/Austrian snacks', 'Ve...</td>\n",
       "      <td>/Restaurant_Review-g189158-d1924718-Reviews-Ka...</td>\n",
       "      <td>d1924718</td>\n",
       "      <td>1</td>\n",
       "      <td>4.0</td>\n",
       "    </tr>\n",
       "  </tbody>\n",
       "</table>\n",
       "</div>"
      ],
      "text/plain": [
       "      Restaurant_id       City  \\\n",
       "6759        id_6759  Stockholm   \n",
       "19989       id_5868      Milan   \n",
       "22144        id_666     Lisbon   \n",
       "17341       id_1018      Milan   \n",
       "33566        id_520     Lisbon   \n",
       "\n",
       "                                           Cuisine Style  Ranking Price Range  \\\n",
       "6759                                                 NaN   1388.0         NaN   \n",
       "19989                                                NaN   5871.0         NaN   \n",
       "22144                         ['European', 'Portuguese']    667.0           $   \n",
       "17341                                                NaN   1020.0         NaN   \n",
       "33566  ['German', 'Vegetarian Friendly', 'Gluten Free...    521.0    $$ - $$$   \n",
       "\n",
       "       Number of Reviews                                            Reviews  \\\n",
       "6759                 3.0  [['Good food, friendly service', 'Pleasant sta...   \n",
       "19989               52.0  [['Great coffee, tourist trap prices', 'To avo...   \n",
       "22144              242.0  [['What a great little spot.', 'Marvellous Cak...   \n",
       "17341               27.0  [['Milan', 'Nice Restaurant'], ['11/03/2017', ...   \n",
       "33566              266.0  [['Great spot for German/Austrian snacks', 'Ve...   \n",
       "\n",
       "                                                  URL_TA      ID_TA  sample  \\\n",
       "6759   /Restaurant_Review-g189852-d12875346-Reviews-C...  d12875346       0   \n",
       "19989  /Restaurant_Review-g187849-d7134848-Reviews-An...   d7134848       1   \n",
       "22144  /Restaurant_Review-g189158-d4351910-Reviews-Ca...   d4351910       1   \n",
       "17341  /Restaurant_Review-g187849-d12666436-Reviews-L...  d12666436       1   \n",
       "33566  /Restaurant_Review-g189158-d1924718-Reviews-Ka...   d1924718       1   \n",
       "\n",
       "       Rating  \n",
       "6759      0.0  \n",
       "19989     2.5  \n",
       "22144     4.0  \n",
       "17341     4.5  \n",
       "33566     4.0  "
      ]
     },
     "execution_count": 275,
     "metadata": {},
     "output_type": "execute_result"
    }
   ],
   "source": [
    "data.sample(5)"
   ]
  },
  {
   "cell_type": "code",
   "execution_count": 276,
   "metadata": {},
   "outputs": [
    {
     "data": {
      "text/plain": [
       "\"[['Very good reviews!', 'Fine dining in Hakaniemi'], ['12/05/2017', '10/29/2017']]\""
      ]
     },
     "execution_count": 276,
     "metadata": {},
     "output_type": "execute_result"
    }
   ],
   "source": [
    "data.Reviews[1]"
   ]
  },
  {
   "cell_type": "markdown",
   "metadata": {},
   "source": [
    "Как видим, большинство признаков у нас требует очистки и предварительной обработки."
   ]
  },
  {
   "cell_type": "markdown",
   "metadata": {},
   "source": [
    "# Cleaning and Prepping Data\n",
    "Обычно данные содержат в себе кучу мусора, который необходимо почистить, для того чтобы привести их в приемлемый формат. Чистка данных — это необходимый этап решения почти любой реальной задачи.   \n",
    "![](https://analyticsindiamag.com/wp-content/uploads/2018/01/data-cleaning.png)"
   ]
  },
  {
   "cell_type": "code",
   "execution_count": 277,
   "metadata": {},
   "outputs": [],
   "source": [
    "# Завернем модель в функцию для того, чтобы было удобнее вызывать\n",
    "\n",
    "def model_func(df_preproc):\n",
    "    # выделим тестовую часть\n",
    "    train_data = df_preproc.query('sample == 1').drop(['sample'], axis=1)\n",
    "    test_data = df_preproc.query('sample == 0').drop(['sample'], axis=1)\n",
    "\n",
    "    y = train_data.Rating.values            # наш таргет\n",
    "    X = train_data.drop(['Rating'], axis=1)\n",
    "    \n",
    "    RANDOM_SEED = 42\n",
    "    \n",
    "    # Воспользуемся специальной функцие train_test_split для разбивки тестовых данных\n",
    "    # выделим 20% данных на валидацию (параметр test_size)\n",
    "    X_train, X_test, y_train, y_test = train_test_split(X, y, test_size=0.2, random_state=RANDOM_SEED)\n",
    "\n",
    "    # Создаём модель (НАСТРОЙКИ НЕ ТРОГАЕМ)\n",
    "    model = RandomForestRegressor(n_estimators=100, verbose=1, n_jobs=-1, random_state=RANDOM_SEED)\n",
    "    \n",
    "    # Обучаем модель на тестовом наборе данных\n",
    "    model.fit(X_train, y_train)\n",
    "\n",
    "    # Используем обученную модель для предсказания рейтинга ресторанов в тестовой выборке.\n",
    "    # Предсказанные значения записываем в переменную y_pred\n",
    "    y_pred = model.predict(X_test)\n",
    "    y_pred = round_of_rating(y_pred)\n",
    "    \n",
    "    result = metrics.mean_absolute_error(y_test, y_pred)\n",
    "    \n",
    "    # в RandomForestRegressor есть возможность вывести самые важные признаки для модели\n",
    "    plt.rcParams['figure.figsize'] = (5,5)\n",
    "    feat_importances = pd.Series(model.feature_importances_, index=X.columns)\n",
    "    feat_importances.nlargest(35).plot(kind='barh')\n",
    "    \n",
    "    plt.show\n",
    "    \n",
    "    return result"
   ]
  },
  {
   "cell_type": "markdown",
   "metadata": {},
   "source": [
    "## 1. Обработка NAN \n",
    "Заполним пустые значения у фичи Number_of_reviews медианой"
   ]
  },
  {
   "cell_type": "code",
   "execution_count": 278,
   "metadata": {},
   "outputs": [],
   "source": [
    "data['Number of Reviews'] = data['Number of Reviews'].fillna(data['Number of Reviews'].median())"
   ]
  },
  {
   "cell_type": "code",
   "execution_count": 279,
   "metadata": {},
   "outputs": [
    {
     "name": "stderr",
     "output_type": "stream",
     "text": [
      "[Parallel(n_jobs=-1)]: Using backend ThreadingBackend with 4 concurrent workers.\n",
      "[Parallel(n_jobs=-1)]: Done  42 tasks      | elapsed:    0.5s\n",
      "[Parallel(n_jobs=-1)]: Done 100 out of 100 | elapsed:    1.3s finished\n",
      "[Parallel(n_jobs=4)]: Using backend ThreadingBackend with 4 concurrent workers.\n",
      "[Parallel(n_jobs=4)]: Done  42 tasks      | elapsed:    0.0s\n",
      "[Parallel(n_jobs=4)]: Done 100 out of 100 | elapsed:    0.0s finished\n"
     ]
    },
    {
     "data": {
      "text/plain": [
       "0.473125"
      ]
     },
     "execution_count": 279,
     "metadata": {},
     "output_type": "execute_result"
    },
    {
     "data": {
      "image/png": "[encoded data removed]",
      "text/plain": [
       "<Figure size 360x360 with 1 Axes>"
      ]
     },
     "metadata": {
      "needs_background": "light"
     },
     "output_type": "display_data"
    }
   ],
   "source": [
    "df_preproc = pd.concat(\n",
    "    [data.loc[:, ['Rating', 'sample']], data['Number of Reviews']], axis=1)\n",
    "model_func(df_preproc)"
   ]
  },
  {
   "cell_type": "markdown",
   "metadata": {},
   "source": [
    "### 2. Обработка признаков\n",
    "Для начала посмотрим какие признаки у нас могут быть категориальными."
   ]
  },
  {
   "cell_type": "code",
   "execution_count": 280,
   "metadata": {},
   "outputs": [
    {
     "data": {
      "text/plain": [
       "Restaurant_id        13094\n",
       "City                    31\n",
       "Cuisine Style        10732\n",
       "Ranking              12975\n",
       "Price Range              4\n",
       "Number of Reviews     1573\n",
       "Reviews              41858\n",
       "URL_TA               49963\n",
       "ID_TA                49963\n",
       "sample                   2\n",
       "Rating                  10\n",
       "dtype: int64"
      ]
     },
     "execution_count": 280,
     "metadata": {},
     "output_type": "execute_result"
    }
   ],
   "source": [
    "data.nunique(dropna=False)"
   ]
  },
  {
   "cell_type": "markdown",
   "metadata": {},
   "source": [
    "Какие признаки можно считать категориальными?"
   ]
  },
  {
   "cell_type": "markdown",
   "metadata": {},
   "source": [
    "Для кодирования категориальных признаков есть множество подходов:\n",
    "* Label Encoding\n",
    "* One-Hot Encoding\n",
    "* Target Encoding\n",
    "* Hashing\n",
    "\n",
    "Выбор кодирования зависит от признака и выбраной модели.\n",
    "Не будем сейчас сильно погружаться в эту тематику, давайте посмотрим лучше пример с One-Hot Encoding:\n",
    "![](https://i.imgur.com/mtimFxh.png)"
   ]
  },
  {
   "cell_type": "code",
   "execution_count": 281,
   "metadata": {},
   "outputs": [],
   "source": [
    "# для One-Hot Encoding в pandas есть готовая функция - get_dummies. Особенно радует параметр dummy_na\n",
    "cities = pd.get_dummies(data['City'], dummy_na=True)"
   ]
  },
  {
   "cell_type": "code",
   "execution_count": 282,
   "metadata": {},
   "outputs": [
    {
     "name": "stderr",
     "output_type": "stream",
     "text": [
      "[Parallel(n_jobs=-1)]: Using backend ThreadingBackend with 4 concurrent workers.\n",
      "[Parallel(n_jobs=-1)]: Done  42 tasks      | elapsed:    2.9s\n",
      "[Parallel(n_jobs=-1)]: Done 100 out of 100 | elapsed:    6.8s finished\n",
      "[Parallel(n_jobs=4)]: Using backend ThreadingBackend with 4 concurrent workers.\n",
      "[Parallel(n_jobs=4)]: Done  42 tasks      | elapsed:    0.0s\n",
      "[Parallel(n_jobs=4)]: Done 100 out of 100 | elapsed:    0.0s finished\n"
     ]
    },
    {
     "data": {
      "text/plain": [
       "0.500375"
      ]
     },
     "execution_count": 282,
     "metadata": {},
     "output_type": "execute_result"
    },
    {
     "data": {
      "image/png": "[encoded data removed]",
      "text/plain": [
       "<Figure size 360x360 with 1 Axes>"
      ]
     },
     "metadata": {
      "needs_background": "light"
     },
     "output_type": "display_data"
    }
   ],
   "source": [
    "model_func(pd.concat([df_preproc,cities],axis=1))"
   ]
  },
  {
   "cell_type": "markdown",
   "metadata": {},
   "source": [
    "Благодаря функци видим что одним из самых важных городов это мадрид и рим\n",
    "Создадим эти колонки"
   ]
  },
  {
   "cell_type": "code",
   "execution_count": 283,
   "metadata": {},
   "outputs": [],
   "source": [
    "data['Is_Rome']=data['City'].apply(lambda x: 1 if x == 'Rome' else 0)\n",
    "data['is_Madrid'] = data['City'].apply(lambda x: 1 if x == 'Madrid' else 0)"
   ]
  },
  {
   "cell_type": "code",
   "execution_count": 284,
   "metadata": {},
   "outputs": [
    {
     "name": "stderr",
     "output_type": "stream",
     "text": [
      "[Parallel(n_jobs=-1)]: Using backend ThreadingBackend with 4 concurrent workers.\n",
      "[Parallel(n_jobs=-1)]: Done  42 tasks      | elapsed:    0.7s\n",
      "[Parallel(n_jobs=-1)]: Done 100 out of 100 | elapsed:    1.5s finished\n",
      "[Parallel(n_jobs=4)]: Using backend ThreadingBackend with 4 concurrent workers.\n",
      "[Parallel(n_jobs=4)]: Done  42 tasks      | elapsed:    0.0s\n",
      "[Parallel(n_jobs=4)]: Done 100 out of 100 | elapsed:    0.0s finished\n"
     ]
    },
    {
     "data": {
      "text/plain": [
       "0.474"
      ]
     },
     "execution_count": 284,
     "metadata": {},
     "output_type": "execute_result"
    },
    {
     "data": {
      "image/png": "[encoded data removed]",
      "text/plain": [
       "<Figure size 360x360 with 1 Axes>"
      ]
     },
     "metadata": {
      "needs_background": "light"
     },
     "output_type": "display_data"
    }
   ],
   "source": [
    "df_preproc = pd.concat([df_preproc,data[['is_Madrid','Is_Rome']]],axis=1)\n",
    "model_func(df_preproc)"
   ]
  },
  {
   "cell_type": "markdown",
   "metadata": {},
   "source": [
    "#### Возьмем следующий признак \"Price Range\"."
   ]
  },
  {
   "cell_type": "code",
   "execution_count": 285,
   "metadata": {},
   "outputs": [
    {
     "data": {
      "text/plain": [
       "$$ - $$$    23041\n",
       "$            7816\n",
       "$$$$         1782\n",
       "Name: Price Range, dtype: int64"
      ]
     },
     "execution_count": 285,
     "metadata": {},
     "output_type": "execute_result"
    }
   ],
   "source": [
    "data['Price Range'].value_counts()"
   ]
  },
  {
   "cell_type": "markdown",
   "metadata": {},
   "source": [
    "По описанию 'Price Range' это - Цены в ресторане.  \n",
    "Их можно поставить по возрастанию (значит это не категориальный признак). А это значит, что их можно заменить последовательными числами, например 1,2,3  \n",
    "*Попробуйте сделать обработку этого признака уже самостоятельно!*"
   ]
  },
  {
   "cell_type": "code",
   "execution_count": 286,
   "metadata": {},
   "outputs": [],
   "source": [
    "# Ваша обработка 'Price Range'\n",
    "data['Price Range'] = data['Price Range'].fillna('$$ - $$$')\n",
    "data['Price Range'] = data['Price Range'].apply(\n",
    "    lambda x: 2 if x == '$$ - $$$' else 1 if x == '$' else 3)"
   ]
  },
  {
   "cell_type": "code",
   "execution_count": 287,
   "metadata": {},
   "outputs": [
    {
     "name": "stderr",
     "output_type": "stream",
     "text": [
      "[Parallel(n_jobs=-1)]: Using backend ThreadingBackend with 4 concurrent workers.\n",
      "[Parallel(n_jobs=-1)]: Done  42 tasks      | elapsed:    0.8s\n",
      "[Parallel(n_jobs=-1)]: Done 100 out of 100 | elapsed:    1.9s finished\n",
      "[Parallel(n_jobs=4)]: Using backend ThreadingBackend with 4 concurrent workers.\n",
      "[Parallel(n_jobs=4)]: Done  42 tasks      | elapsed:    0.0s\n",
      "[Parallel(n_jobs=4)]: Done 100 out of 100 | elapsed:    0.0s finished\n"
     ]
    },
    {
     "data": {
      "text/plain": [
       "0.471125"
      ]
     },
     "execution_count": 287,
     "metadata": {},
     "output_type": "execute_result"
    },
    {
     "data": {
      "image/png": "[encoded data removed]",
      "text/plain": [
       "<Figure size 360x360 with 1 Axes>"
      ]
     },
     "metadata": {
      "needs_background": "light"
     },
     "output_type": "display_data"
    }
   ],
   "source": [
    "df_preproc=pd.concat([df_preproc,data['Price Range']],axis=1)\n",
    "model_func(df_preproc)"
   ]
  },
  {
   "cell_type": "markdown",
   "metadata": {},
   "source": [
    "**Cuisine Style**"
   ]
  },
  {
   "cell_type": "code",
   "execution_count": 135,
   "metadata": {},
   "outputs": [],
   "source": [
    "# Cuisine Style приведем кузин стайл к нормальному виду\n",
    "data['Cuisine Style'] = data['Cuisine Style'].apply(\n",
    "    lambda x: str(x)[1:-1].replace(\"'\", '') if not pd.isnull(x) else x)"
   ]
  },
  {
   "cell_type": "code",
   "execution_count": 288,
   "metadata": {},
   "outputs": [],
   "source": [
    "# Заполняю нан значения кухонь значением other\n",
    "data['Cuisine Style'] = data['Cuisine Style'].fillna('Other')"
   ]
  },
  {
   "cell_type": "code",
   "execution_count": 137,
   "metadata": {},
   "outputs": [],
   "source": [
    "# Сет из набора кухонь\n",
    "set_cuisine = set()"
   ]
  },
  {
   "cell_type": "code",
   "execution_count": 289,
   "metadata": {},
   "outputs": [
    {
     "data": {
      "text/plain": [
       "0                                [None, None]\n",
       "1              [None, None, None, None, None]\n",
       "2                                      [None]\n",
       "3              [None, None, None, None, None]\n",
       "4        [None, None, None, None, None, None]\n",
       "                         ...                 \n",
       "49995                [None, None, None, None]\n",
       "49996          [None, None, None, None, None]\n",
       "49997                            [None, None]\n",
       "49998          [None, None, None, None, None]\n",
       "49999                                  [None]\n",
       "Name: Cuisine Style, Length: 50000, dtype: object"
      ]
     },
     "execution_count": 289,
     "metadata": {},
     "output_type": "execute_result"
    }
   ],
   "source": [
    "# заполняем наш сет\n",
    "data['Cuisine Style'].apply(\n",
    "    lambda x: [set_cuisine.add(x) for x in str(x).split(', ')])"
   ]
  },
  {
   "cell_type": "code",
   "execution_count": 139,
   "metadata": {},
   "outputs": [
    {
     "data": {
      "text/plain": [
       "126"
      ]
     },
     "execution_count": 139,
     "metadata": {},
     "output_type": "execute_result"
    }
   ],
   "source": [
    "len(set_cuisine)"
   ]
  },
  {
   "cell_type": "code",
   "execution_count": 140,
   "metadata": {},
   "outputs": [],
   "source": [
    "#Создаем столбцы с кухнями \n",
    "for i in set_cuisine:\n",
    "    data[i]=data['Cuisine Style'].apply(lambda x: 1 if i in str(x).split(', ') else 0)"
   ]
  },
  {
   "cell_type": "code",
   "execution_count": 291,
   "metadata": {},
   "outputs": [],
   "source": [
    "# Кол-во кухонь в ресторане\n",
    "data['Count_Cuisine'] = data['Cuisine Style'].apply(\n",
    "    lambda x: len(str(x).split(', ')))"
   ]
  },
  {
   "cell_type": "code",
   "execution_count": 292,
   "metadata": {},
   "outputs": [
    {
     "name": "stderr",
     "output_type": "stream",
     "text": [
      "[Parallel(n_jobs=-1)]: Using backend ThreadingBackend with 4 concurrent workers.\n",
      "[Parallel(n_jobs=-1)]: Done  42 tasks      | elapsed:    1.0s\n",
      "[Parallel(n_jobs=-1)]: Done 100 out of 100 | elapsed:    2.3s finished\n",
      "[Parallel(n_jobs=4)]: Using backend ThreadingBackend with 4 concurrent workers.\n",
      "[Parallel(n_jobs=4)]: Done  42 tasks      | elapsed:    0.0s\n",
      "[Parallel(n_jobs=4)]: Done 100 out of 100 | elapsed:    0.0s finished\n"
     ]
    },
    {
     "data": {
      "text/plain": [
       "0.4849375"
      ]
     },
     "execution_count": 292,
     "metadata": {},
     "output_type": "execute_result"
    },
    {
     "data": {
      "image/png": "[encoded data removed]",
      "text/plain": [
       "<Figure size 360x360 with 1 Axes>"
      ]
     },
     "metadata": {
      "needs_background": "light"
     },
     "output_type": "display_data"
    }
   ],
   "source": [
    "# результат не растет\n",
    "df_preproc = pd.concat([df_preproc,data.loc[:,['Count_Cuisine']\n",
    " ]],axis=1)\n",
    "model_func(df_preproc)"
   ]
  },
  {
   "cell_type": "markdown",
   "metadata": {},
   "source": [
    "**Restaurant_id**"
   ]
  },
  {
   "cell_type": "code",
   "execution_count": 293,
   "metadata": {},
   "outputs": [],
   "source": [
    "data['Restaurant_id'] = data.Restaurant_id.apply(lambda x: int(str(x[3:])))"
   ]
  },
  {
   "cell_type": "code",
   "execution_count": 294,
   "metadata": {},
   "outputs": [],
   "source": [
    "df_preproc = pd.concat([df_preproc, data.loc[:,['Restaurant_id']]],axis=1)"
   ]
  },
  {
   "cell_type": "code",
   "execution_count": 295,
   "metadata": {},
   "outputs": [
    {
     "name": "stderr",
     "output_type": "stream",
     "text": [
      "[Parallel(n_jobs=-1)]: Using backend ThreadingBackend with 4 concurrent workers.\n",
      "[Parallel(n_jobs=-1)]: Done  42 tasks      | elapsed:    2.4s\n",
      "[Parallel(n_jobs=-1)]: Done 100 out of 100 | elapsed:    5.7s finished\n",
      "[Parallel(n_jobs=4)]: Using backend ThreadingBackend with 4 concurrent workers.\n",
      "[Parallel(n_jobs=4)]: Done  42 tasks      | elapsed:    0.0s\n",
      "[Parallel(n_jobs=4)]: Done 100 out of 100 | elapsed:    0.1s finished\n"
     ]
    },
    {
     "data": {
      "text/plain": [
       "0.359875"
      ]
     },
     "execution_count": 295,
     "metadata": {},
     "output_type": "execute_result"
    },
    {
     "data": {
      "image/png": "[encoded data removed]",
      "text/plain": [
       "<Figure size 360x360 with 1 Axes>"
      ]
     },
     "metadata": {
      "needs_background": "light"
     },
     "output_type": "display_data"
    }
   ],
   "source": [
    "# удивительно как влияет id ведь казалось бы что здесь интересного\n",
    "model_func(df_preproc)"
   ]
  },
  {
   "cell_type": "markdown",
   "metadata": {},
   "source": [
    "**Ranking**"
   ]
  },
  {
   "cell_type": "code",
   "execution_count": 296,
   "metadata": {},
   "outputs": [
    {
     "name": "stderr",
     "output_type": "stream",
     "text": [
      "[Parallel(n_jobs=-1)]: Using backend ThreadingBackend with 4 concurrent workers.\n",
      "[Parallel(n_jobs=-1)]: Done  42 tasks      | elapsed:    3.5s\n",
      "[Parallel(n_jobs=-1)]: Done 100 out of 100 | elapsed:    8.4s finished\n",
      "[Parallel(n_jobs=4)]: Using backend ThreadingBackend with 4 concurrent workers.\n",
      "[Parallel(n_jobs=4)]: Done  42 tasks      | elapsed:    0.0s\n",
      "[Parallel(n_jobs=4)]: Done 100 out of 100 | elapsed:    0.1s finished\n"
     ]
    },
    {
     "data": {
      "text/plain": [
       "0.3519375"
      ]
     },
     "execution_count": 296,
     "metadata": {},
     "output_type": "execute_result"
    },
    {
     "data": {
      "image/png": "[encoded data removed]",
      "text/plain": [
       "<Figure size 360x360 with 1 Axes>"
      ]
     },
     "metadata": {
      "needs_background": "light"
     },
     "output_type": "display_data"
    }
   ],
   "source": [
    "df_preproc = pd.concat([df_preproc, data.loc[:,['Ranking']]],axis=1)\n",
    "model_func(df_preproc)"
   ]
  },
  {
   "cell_type": "markdown",
   "metadata": {},
   "source": [
    "**Reviews**"
   ]
  },
  {
   "cell_type": "markdown",
   "metadata": {},
   "source": [
    "т.к городов не очень много составим словарь с доп информацией"
   ]
  },
  {
   "cell_type": "code",
   "execution_count": 238,
   "metadata": {},
   "outputs": [],
   "source": [
    "сity_info = {\n",
    "        'Munich':\n",
    "        {\n",
    "            'capital': 0,\n",
    "            'population': 1456000,\n",
    "            'numberofrestaraunts': 3018,\n",
    "            'country': 'Germany'\n",
    "        },\n",
    "        'Oporto':\n",
    "        {\n",
    "            'capital': 0,\n",
    "            'population': 214000,\n",
    "            'numberofrestaraunts': 1902,\n",
    "            'country': 'Portugal'\n",
    "        },\n",
    "        'Milan':\n",
    "        {\n",
    "            'capital': 0,\n",
    "            'population': 1352000,\n",
    "            'numberofrestaraunts': 7000,\n",
    "            'country': 'Italy'\n",
    "        },\n",
    "        'Barcelona':\n",
    "        {\n",
    "            'capital': 0,\n",
    "            'population': 5515000,\n",
    "            'numberofrestaraunts': 9309,\n",
    "            'country': 'Spain'\n",
    "        },\n",
    "        'Zurich':\n",
    "        {\n",
    "            'capital': 0,\n",
    "            'population': 402000,\n",
    "            'numberofrestaraunts': 1792,\n",
    "            'country': 'Switzerland'\n",
    "        },\n",
    "        'Lyon':\n",
    "        {\n",
    "            'capital': 0,\n",
    "            'population': 513000,\n",
    "            'numberofrestaraunts': 2701,\n",
    "            'country': 'France'\n",
    "        },\n",
    "        'Hamburg':\n",
    "        {\n",
    "            'capital': 0,\n",
    "            'population': 1822000,\n",
    "            'numberofrestaraunts': 3138,\n",
    "            'country': 'Germany'\n",
    "        },\n",
    "        'Geneva':\n",
    "        {\n",
    "            'capital': 0,\n",
    "            'population': 495000,\n",
    "            'numberofrestaraunts': 1665,\n",
    "            'country': 'Switzerland'\n",
    "        },\n",
    "        'Krakow':\n",
    "        {\n",
    "            'capital': 0,\n",
    "            'population': 769000,\n",
    "            'numberofrestaraunts': 1621,\n",
    "            'country': 'Poland'\n",
    "        },\n",
    "        'Paris':\n",
    "        {\n",
    "            'capital': 1,\n",
    "            'population': 2148000,\n",
    "            'numberofrestaraunts': 16684,\n",
    "            'country': 'France'\n",
    "        },\n",
    "        'Stockholm':\n",
    "        {\n",
    "            'capital': 1,\n",
    "            'population': 974000,\n",
    "            'numberofrestaraunts': 2882,\n",
    "            'country': 'Sweden'\n",
    "        },\n",
    "        'London':\n",
    "        {\n",
    "            'capital': 1,\n",
    "            'population': 8899000,\n",
    "            'numberofrestaraunts': 19374,\n",
    "            'country': 'England'\n",
    "        },\n",
    "        'Berlin':\n",
    "        {\n",
    "            'capital': 1,\n",
    "            'population': 3748000,\n",
    "            'numberofrestaraunts': 6962,\n",
    "            'country': 'Germany'\n",
    "        },\n",
    "        'Bratislava':\n",
    "        {\n",
    "            'capital': 1,\n",
    "            'population': 424000,\n",
    "            'numberofrestaraunts': 1201,\n",
    "            'country': 'Slovakia'\n",
    "        },\n",
    "        'Vienna':\n",
    "        {\n",
    "            'capital': 1,\n",
    "            'population': 1889000,\n",
    "            'numberofrestaraunts': 3951,\n",
    "            'country': 'Austria'\n",
    "        },\n",
    "        'Rome':\n",
    "        {\n",
    "            'capital': 1,\n",
    "            'population': 2873000,\n",
    "            'numberofrestaraunts': 10558,\n",
    "            'country': 'Italy'\n",
    "        },\n",
    "        'Madrid':\n",
    "        {\n",
    "            'capital': 1,\n",
    "            'population': 6549000,\n",
    "            'numberofrestaraunts': 10891,\n",
    "            'country': 'Spain'\n",
    "        },\n",
    "        'Dublin':\n",
    "        {\n",
    "            'capital': 1,\n",
    "            'population': 1361000,\n",
    "            'numberofrestaraunts': 2298,\n",
    "            'country': 'Ireland'\n",
    "        },\n",
    "        'Brussels':\n",
    "        {\n",
    "            'capital': 1,\n",
    "            'population': 1831000,\n",
    "            'numberofrestaraunts': 3525,\n",
    "            'country': 'Belgium'\n",
    "        },\n",
    "        'Warsaw':\n",
    "        {\n",
    "            'capital': 1,\n",
    "            'population': 1708000,\n",
    "            'numberofrestaraunts': 3040,\n",
    "            'country': 'Poland'\n",
    "        },\n",
    "        'Budapest':\n",
    "        {\n",
    "            'capital': 1,\n",
    "            'population': 1750000,\n",
    "            'numberofrestaraunts': 2917,\n",
    "            'country': 'Hungary'\n",
    "        },\n",
    "        'Copenhagen':\n",
    "        {\n",
    "            'capital': 1,\n",
    "            'population': 602000,\n",
    "            'numberofrestaraunts': 2329,\n",
    "            'country': 'Denmark'\n",
    "        },\n",
    "        'Amsterdam':\n",
    "        {\n",
    "            'capital': 1,\n",
    "            'population': 821000,\n",
    "            'numberofrestaraunts': 3847,\n",
    "            'country': 'The Netherlands'\n",
    "        },\n",
    "        'Lisbon':\n",
    "        {\n",
    "            'capital': 1,\n",
    "            'population': 504000,\n",
    "            'numberofrestaraunts': 4682,\n",
    "            'country': 'Portugal',\n",
    "        },\n",
    "        'Prague':\n",
    "        {\n",
    "            'capital': 1,\n",
    "            'population': 1319000,\n",
    "            'numberofrestaraunts': 5213,\n",
    "            'country': 'The Czech Republic'\n",
    "        },\n",
    "        'Oslo':\n",
    "        {\n",
    "            'capital': 1,\n",
    "            'population': 673000,\n",
    "            'numberofrestaraunts': 1303,\n",
    "            'country': 'Norway'\n",
    "        },\n",
    "        'Helsinki':\n",
    "        {\n",
    "            'capital': 1,\n",
    "            'population': 631000,\n",
    "            'numberofrestaraunts': 1478,\n",
    "            'country': 'Finland'\n",
    "        },\n",
    "        'Edinburgh':\n",
    "        {\n",
    "            'capital': 1,\n",
    "            'population': 488000,\n",
    "            'numberofrestaraunts': 1852,\n",
    "            'country': 'Scotland'\n",
    "        },\n",
    "        'Ljubljana':\n",
    "        {\n",
    "            'capital': 1,\n",
    "            'population': 284000,\n",
    "            'numberofrestaraunts': 583,\n",
    "            'country': 'Slovenia'\n",
    "        },\n",
    "        'Athens':\n",
    "            {'capital': 1,\n",
    "            'population': 664000 ,\n",
    "            'numberofrestaraunts': 2441,\n",
    "            'country': 'Greece'\n",
    "        },\n",
    "        'Luxembourg':\n",
    "        {\n",
    "            'capital': 1,\n",
    "            'population': 115000,\n",
    "            'numberofrestaraunts': 716,\n",
    "            'country': 'Luxembourg'}}"
   ]
  },
  {
   "cell_type": "code",
   "execution_count": 303,
   "metadata": {},
   "outputs": [],
   "source": [
    "def Feature_def(row):\n",
    "    row['feed_polarity1'] = TextBlob(str(row['Reviews']).split('],')[\n",
    "                                     0][3:-1].split(\"', '\")[0]).sentiment[0]\n",
    "    row['feed_subjectivity1'] = TextBlob(str(row['Reviews']).split('],')[\n",
    "                                         0][3:-1].split(\"', '\")[0]).sentiment[1]\n",
    "    if len(str(row['Reviews']).split('],')[0][3:-1]) > 1:\n",
    "        row['feed_polarity2'] = TextBlob(str(row['Reviews']).split('],')[\n",
    "                                         0][3:-1].split(\"', '\")[0]).sentiment[0]\n",
    "        row['feed_subjectivity2'] = TextBlob(str(row['Reviews']).split('],')[\n",
    "                                             0][3:-1].split(\"', '\")[0]).sentiment[1]\n",
    "\n",
    "    else:\n",
    "        row['feed_polarity2'] = 0\n",
    "        row['feed_subjectivity2'] = 0\n",
    "    ##время\n",
    "    x = pattern.findall(str(row['Reviews']))\n",
    "    # если существует одна дата в списке\n",
    "    if len(x) == 1:\n",
    "        row['last_rewiew'] = pd.to_datetime(x[0])\n",
    "    # ищем самую позднюю дату ревью и заполняем им столбец\n",
    "    elif len(x) > 1:\n",
    "        row['last_rewiew'] = max(pd.to_datetime(x[0]), pd.to_datetime(x[1]))\n",
    "    # у строки нет времени\n",
    "    elif len(x) == 0:\n",
    "        row['last_rewiew'] = np.nan\n",
    "    #добавление словаря\n",
    "    row['is_capital'] = сity_info[row.City]['capital']\n",
    "    row['population'] = сity_info[row.City]['population']\n",
    "    row['numberofrestaraunts'] = сity_info[row.City]['numberofrestaraunts']\n",
    "    row['country'] = сity_info[row.City]['country']\n",
    "    return row\n",
    "\n",
    "    return row"
   ]
  },
  {
   "cell_type": "code",
   "execution_count": 304,
   "metadata": {},
   "outputs": [],
   "source": [
    "data = data.apply(Feature_def,axis=1)"
   ]
  },
  {
   "cell_type": "code",
   "execution_count": 305,
   "metadata": {},
   "outputs": [],
   "source": [
    "# Заполним нан значения времени\n",
    "data['last_rewiew'] = data['last_rewiew'].fillna(\n",
    "    data['last_rewiew'].quantile())"
   ]
  },
  {
   "cell_type": "code",
   "execution_count": 306,
   "metadata": {},
   "outputs": [],
   "source": [
    "# записываем в столбец кол-во дней прошедших с самой поздней даты в нашей выборке\n",
    "data['last_rewiew'] = pd.to_timedelta(\n",
    "    (max(data['last_rewiew'])-data['last_rewiew'])).apply(lambda x: x.days)"
   ]
  },
  {
   "cell_type": "code",
   "execution_count": 308,
   "metadata": {
    "scrolled": true
   },
   "outputs": [
    {
     "name": "stderr",
     "output_type": "stream",
     "text": [
      "[Parallel(n_jobs=-1)]: Using backend ThreadingBackend with 4 concurrent workers.\n",
      "[Parallel(n_jobs=-1)]: Done  42 tasks      | elapsed:    2.4s\n",
      "[Parallel(n_jobs=-1)]: Done 100 out of 100 | elapsed:    5.6s finished\n",
      "[Parallel(n_jobs=4)]: Using backend ThreadingBackend with 4 concurrent workers.\n",
      "[Parallel(n_jobs=4)]: Done  42 tasks      | elapsed:    0.0s\n",
      "[Parallel(n_jobs=4)]: Done 100 out of 100 | elapsed:    0.0s finished\n"
     ]
    },
    {
     "data": {
      "text/plain": [
       "0.179"
      ]
     },
     "execution_count": 308,
     "metadata": {},
     "output_type": "execute_result"
    },
    {
     "data": {
      "image/png": "[encoded data removed]",
      "text/plain": [
       "<Figure size 360x360 with 1 Axes>"
      ]
     },
     "metadata": {
      "needs_background": "light"
     },
     "output_type": "display_data"
    }
   ],
   "source": [
    "#Колонки выбраны путем подбора\n",
    "df_preproc = pd.concat([df_preproc, data.loc[:,['feed_polarity1','feed_subjectivity1','last_rewiew','is_capital','population','numberofrestaraunts']]],axis=1)\n",
    "model_func(df_preproc)"
   ]
  },
  {
   "cell_type": "code",
   "execution_count": 309,
   "metadata": {},
   "outputs": [],
   "source": [
    "countries = pd.get_dummies(data['country'])"
   ]
  },
  {
   "cell_type": "code",
   "execution_count": 310,
   "metadata": {},
   "outputs": [
    {
     "name": "stderr",
     "output_type": "stream",
     "text": [
      "[Parallel(n_jobs=-1)]: Using backend ThreadingBackend with 4 concurrent workers.\n",
      "[Parallel(n_jobs=-1)]: Done  42 tasks      | elapsed:    5.5s\n",
      "[Parallel(n_jobs=-1)]: Done 100 out of 100 | elapsed:   13.7s finished\n",
      "[Parallel(n_jobs=4)]: Using backend ThreadingBackend with 4 concurrent workers.\n",
      "[Parallel(n_jobs=4)]: Done  42 tasks      | elapsed:    0.0s\n",
      "[Parallel(n_jobs=4)]: Done 100 out of 100 | elapsed:    0.1s finished\n"
     ]
    },
    {
     "data": {
      "text/plain": [
       "0.1776875"
      ]
     },
     "execution_count": 310,
     "metadata": {},
     "output_type": "execute_result"
    },
    {
     "data": {
      "image/png": "[encoded data removed]",
      "text/plain": [
       "<Figure size 360x360 with 1 Axes>"
      ]
     },
     "metadata": {
      "needs_background": "light"
     },
     "output_type": "display_data"
    }
   ],
   "source": [
    "df_preproc = pd.concat([df_preproc,countries],axis=1)\n",
    "model_func(df_preproc)"
   ]
  },
  {
   "cell_type": "markdown",
   "metadata": {},
   "source": [
    "> Для некоторых алгоритмов МЛ даже для не категориальных признаков можно применить One-Hot Encoding, и это может улучшить качество модели. Пробуйте разные подходы к кодированию признака - никто не знает заранее, что может взлететь."
   ]
  },
  {
   "cell_type": "markdown",
   "metadata": {},
   "source": [
    "# EDA \n",
    "[Exploratory Data Analysis](https://ru.wikipedia.org/wiki/Разведочный_анализ_данных) - Анализ данных\n",
    "На этом этапе мы строим графики, ищем закономерности, аномалии, выбросы или связи между признаками.\n",
    "В общем цель этого этапа понять, что эти данные могут нам дать и как признаки могут быть взаимосвязаны между собой.\n",
    "Понимание изначальных признаков позволит сгенерировать новые, более сильные и, тем самым, сделать нашу модель лучше.\n",
    "![](https://miro.medium.com/max/2598/1*RXdMb7Uk6mGqWqPguHULaQ.png)"
   ]
  },
  {
   "cell_type": "markdown",
   "metadata": {},
   "source": [
    "### Посмотрим распределение признака"
   ]
  },
  {
   "cell_type": "code",
   "execution_count": 169,
   "metadata": {},
   "outputs": [
    {
     "data": {
      "text/plain": [
       "<matplotlib.axes._subplots.AxesSubplot at 0x1ec4284a490>"
      ]
     },
     "execution_count": 169,
     "metadata": {},
     "output_type": "execute_result"
    },
    {
     "data": {
      "image/png": "[encoded data removed]",
      "text/plain": [
       "<Figure size 720x504 with 1 Axes>"
      ]
     },
     "metadata": {
      "needs_background": "light"
     },
     "output_type": "display_data"
    }
   ],
   "source": [
    "plt.rcParams['figure.figsize'] = (10,7)\n",
    "df_train['Ranking'].hist(bins=100)"
   ]
  },
  {
   "cell_type": "markdown",
   "metadata": {},
   "source": [
    "У нас много ресторанов, которые не дотягивают и до 2500 места в своем городе, а что там по городам?"
   ]
  },
  {
   "cell_type": "code",
   "execution_count": 170,
   "metadata": {},
   "outputs": [
    {
     "data": {
      "text/plain": [
       "<matplotlib.axes._subplots.AxesSubplot at 0x1ec4b41fe20>"
      ]
     },
     "execution_count": 170,
     "metadata": {},
     "output_type": "execute_result"
    },
    {
     "data": {
      "image/png": "[encoded data removed]",
      "text/plain": [
       "<Figure size 720x504 with 1 Axes>"
      ]
     },
     "metadata": {
      "needs_background": "light"
     },
     "output_type": "display_data"
    }
   ],
   "source": [
    "df_train['City'].value_counts(ascending=True).plot(kind='barh')"
   ]
  },
  {
   "cell_type": "markdown",
   "metadata": {},
   "source": [
    "А кто-то говорил, что французы любят поесть=) Посмотрим, как изменится распределение в большом городе:"
   ]
  },
  {
   "cell_type": "code",
   "execution_count": 171,
   "metadata": {},
   "outputs": [
    {
     "data": {
      "text/plain": [
       "<matplotlib.axes._subplots.AxesSubplot at 0x1ec4ea236a0>"
      ]
     },
     "execution_count": 171,
     "metadata": {},
     "output_type": "execute_result"
    },
    {
     "data": {
      "image/png": "[encoded data removed]",
      "text/plain": [
       "<Figure size 720x504 with 1 Axes>"
      ]
     },
     "metadata": {
      "needs_background": "light"
     },
     "output_type": "display_data"
    }
   ],
   "source": [
    "df_train['Ranking'][df_train['City'] =='London'].hist(bins=100)"
   ]
  },
  {
   "cell_type": "code",
   "execution_count": 172,
   "metadata": {},
   "outputs": [
    {
     "data": {
      "image/png": "[encoded data removed]",
      "text/plain": [
       "<Figure size 720x504 with 1 Axes>"
      ]
     },
     "metadata": {
      "needs_background": "light"
     },
     "output_type": "display_data"
    }
   ],
   "source": [
    "# посмотрим на топ 10 городов\n",
    "for x in (df_train['City'].value_counts())[0:10].index:\n",
    "    df_train['Ranking'][df_train['City'] == x].hist(bins=100)\n",
    "plt.show()"
   ]
  },
  {
   "cell_type": "markdown",
   "metadata": {},
   "source": [
    "Давай те стандартизируем ranking"
   ]
  },
  {
   "cell_type": "code",
   "execution_count": 173,
   "metadata": {},
   "outputs": [],
   "source": [
    "mean_per_city = data.groupby('City')['Ranking'].mean()\n",
    "data['mean_ranking_per_city'] = data['City'].apply(lambda x: mean_per_city[x])\n",
    "\n",
    "#  масмимальный ранкинг для каждого города\n",
    "max_per_city = data.groupby('City')['Ranking'].max()\n",
    "data['max_per_city'] = data['City'].apply(lambda x: max_per_city[x])\n",
    "\n",
    "# стандартизация\n",
    "data['StandRanking'] = (data['Ranking'] - data['mean_ranking_per_city']) / data['max_per_city']"
   ]
  },
  {
   "cell_type": "code",
   "execution_count": 174,
   "metadata": {},
   "outputs": [
    {
     "data": {
      "text/html": [
       "<div>\n",
       "<style scoped>\n",
       "    .dataframe tbody tr th:only-of-type {\n",
       "        vertical-align: middle;\n",
       "    }\n",
       "\n",
       "    .dataframe tbody tr th {\n",
       "        vertical-align: top;\n",
       "    }\n",
       "\n",
       "    .dataframe thead th {\n",
       "        text-align: right;\n",
       "    }\n",
       "</style>\n",
       "<table border=\"1\" class=\"dataframe\">\n",
       "  <thead>\n",
       "    <tr style=\"text-align: right;\">\n",
       "      <th></th>\n",
       "      <th>Restaurant_id</th>\n",
       "      <th>Ranking</th>\n",
       "      <th>Price Range</th>\n",
       "      <th>Number of Reviews</th>\n",
       "      <th>ID_TA</th>\n",
       "      <th>sample</th>\n",
       "      <th>Rating</th>\n",
       "      <th>Is_Rome</th>\n",
       "      <th>is_Madrid</th>\n",
       "      <th>Fast Food</th>\n",
       "      <th>...</th>\n",
       "      <th>Welsh</th>\n",
       "      <th>Arabic</th>\n",
       "      <th>Count_Cuisine</th>\n",
       "      <th>last_rewiew</th>\n",
       "      <th>is_capital</th>\n",
       "      <th>population</th>\n",
       "      <th>numberofrestaraunts</th>\n",
       "      <th>mean_ranking_per_city</th>\n",
       "      <th>max_per_city</th>\n",
       "      <th>StandRanking</th>\n",
       "    </tr>\n",
       "  </thead>\n",
       "  <tbody>\n",
       "    <tr>\n",
       "      <th>Restaurant_id</th>\n",
       "      <td>1.000000</td>\n",
       "      <td>0.825090</td>\n",
       "      <td>-0.020504</td>\n",
       "      <td>-0.184113</td>\n",
       "      <td>0.039769</td>\n",
       "      <td>-0.147500</td>\n",
       "      <td>-0.257137</td>\n",
       "      <td>-3.682285e-02</td>\n",
       "      <td>4.459520e-02</td>\n",
       "      <td>0.014511</td>\n",
       "      <td>...</td>\n",
       "      <td>-0.006843</td>\n",
       "      <td>-0.008903</td>\n",
       "      <td>-0.260829</td>\n",
       "      <td>0.186023</td>\n",
       "      <td>1.664816e-01</td>\n",
       "      <td>4.472211e-01</td>\n",
       "      <td>5.793726e-01</td>\n",
       "      <td>5.845240e-01</td>\n",
       "      <td>5.845179e-01</td>\n",
       "      <td>4.710148e-01</td>\n",
       "    </tr>\n",
       "    <tr>\n",
       "      <th>Ranking</th>\n",
       "      <td>0.825090</td>\n",
       "      <td>1.000000</td>\n",
       "      <td>-0.026334</td>\n",
       "      <td>-0.221099</td>\n",
       "      <td>0.049756</td>\n",
       "      <td>0.006271</td>\n",
       "      <td>-0.109897</td>\n",
       "      <td>-4.381133e-02</td>\n",
       "      <td>5.622859e-02</td>\n",
       "      <td>0.021050</td>\n",
       "      <td>...</td>\n",
       "      <td>-0.005372</td>\n",
       "      <td>-0.008148</td>\n",
       "      <td>-0.322408</td>\n",
       "      <td>0.225972</td>\n",
       "      <td>2.029052e-01</td>\n",
       "      <td>5.431748e-01</td>\n",
       "      <td>7.029468e-01</td>\n",
       "      <td>7.090966e-01</td>\n",
       "      <td>7.090684e-01</td>\n",
       "      <td>5.727314e-01</td>\n",
       "    </tr>\n",
       "    <tr>\n",
       "      <th>Price Range</th>\n",
       "      <td>-0.020504</td>\n",
       "      <td>-0.026334</td>\n",
       "      <td>1.000000</td>\n",
       "      <td>0.109173</td>\n",
       "      <td>-0.061790</td>\n",
       "      <td>-0.003419</td>\n",
       "      <td>-0.012176</td>\n",
       "      <td>-5.026609e-02</td>\n",
       "      <td>2.507473e-02</td>\n",
       "      <td>-0.277461</td>\n",
       "      <td>...</td>\n",
       "      <td>0.014480</td>\n",
       "      <td>-0.005581</td>\n",
       "      <td>0.002816</td>\n",
       "      <td>-0.021784</td>\n",
       "      <td>-8.802856e-03</td>\n",
       "      <td>-1.232563e-02</td>\n",
       "      <td>-8.778200e-04</td>\n",
       "      <td>4.967909e-03</td>\n",
       "      <td>5.115437e-03</td>\n",
       "      <td>-4.390265e-02</td>\n",
       "    </tr>\n",
       "    <tr>\n",
       "      <th>Number of Reviews</th>\n",
       "      <td>-0.184113</td>\n",
       "      <td>-0.221099</td>\n",
       "      <td>0.109173</td>\n",
       "      <td>1.000000</td>\n",
       "      <td>-0.285681</td>\n",
       "      <td>0.002597</td>\n",
       "      <td>0.011016</td>\n",
       "      <td>1.339693e-01</td>\n",
       "      <td>-2.303411e-02</td>\n",
       "      <td>-0.000467</td>\n",
       "      <td>...</td>\n",
       "      <td>0.002362</td>\n",
       "      <td>-0.005313</td>\n",
       "      <td>0.405531</td>\n",
       "      <td>-0.295735</td>\n",
       "      <td>1.402115e-02</td>\n",
       "      <td>1.586567e-02</td>\n",
       "      <td>4.164672e-02</td>\n",
       "      <td>2.495585e-02</td>\n",
       "      <td>2.524303e-02</td>\n",
       "      <td>-4.020454e-01</td>\n",
       "    </tr>\n",
       "    <tr>\n",
       "      <th>ID_TA</th>\n",
       "      <td>0.039769</td>\n",
       "      <td>0.049756</td>\n",
       "      <td>-0.061790</td>\n",
       "      <td>-0.285681</td>\n",
       "      <td>1.000000</td>\n",
       "      <td>-0.000315</td>\n",
       "      <td>0.049589</td>\n",
       "      <td>-1.801501e-02</td>\n",
       "      <td>5.478965e-02</td>\n",
       "      <td>0.030407</td>\n",
       "      <td>...</td>\n",
       "      <td>-0.001426</td>\n",
       "      <td>0.021993</td>\n",
       "      <td>-0.220469</td>\n",
       "      <td>-0.065795</td>\n",
       "      <td>-7.272126e-03</td>\n",
       "      <td>-1.648572e-02</td>\n",
       "      <td>-5.721574e-02</td>\n",
       "      <td>-5.787101e-02</td>\n",
       "      <td>-5.784117e-02</td>\n",
       "      <td>1.679534e-01</td>\n",
       "    </tr>\n",
       "    <tr>\n",
       "      <th>...</th>\n",
       "      <td>...</td>\n",
       "      <td>...</td>\n",
       "      <td>...</td>\n",
       "      <td>...</td>\n",
       "      <td>...</td>\n",
       "      <td>...</td>\n",
       "      <td>...</td>\n",
       "      <td>...</td>\n",
       "      <td>...</td>\n",
       "      <td>...</td>\n",
       "      <td>...</td>\n",
       "      <td>...</td>\n",
       "      <td>...</td>\n",
       "      <td>...</td>\n",
       "      <td>...</td>\n",
       "      <td>...</td>\n",
       "      <td>...</td>\n",
       "      <td>...</td>\n",
       "      <td>...</td>\n",
       "      <td>...</td>\n",
       "      <td>...</td>\n",
       "    </tr>\n",
       "    <tr>\n",
       "      <th>population</th>\n",
       "      <td>0.447221</td>\n",
       "      <td>0.543175</td>\n",
       "      <td>-0.012326</td>\n",
       "      <td>0.015866</td>\n",
       "      <td>-0.016486</td>\n",
       "      <td>0.007352</td>\n",
       "      <td>-0.009902</td>\n",
       "      <td>-3.429475e-02</td>\n",
       "      <td>3.237745e-01</td>\n",
       "      <td>0.044067</td>\n",
       "      <td>...</td>\n",
       "      <td>0.007534</td>\n",
       "      <td>-0.004817</td>\n",
       "      <td>0.021236</td>\n",
       "      <td>-0.029518</td>\n",
       "      <td>1.899469e-01</td>\n",
       "      <td>1.000000e+00</td>\n",
       "      <td>7.604716e-01</td>\n",
       "      <td>7.660097e-01</td>\n",
       "      <td>7.642717e-01</td>\n",
       "      <td>1.105419e-17</td>\n",
       "    </tr>\n",
       "    <tr>\n",
       "      <th>numberofrestaraunts</th>\n",
       "      <td>0.579373</td>\n",
       "      <td>0.702947</td>\n",
       "      <td>-0.000878</td>\n",
       "      <td>0.041647</td>\n",
       "      <td>-0.057216</td>\n",
       "      <td>0.005096</td>\n",
       "      <td>-0.011432</td>\n",
       "      <td>6.192838e-02</td>\n",
       "      <td>9.138917e-02</td>\n",
       "      <td>0.026842</td>\n",
       "      <td>...</td>\n",
       "      <td>0.006074</td>\n",
       "      <td>-0.005902</td>\n",
       "      <td>-0.016131</td>\n",
       "      <td>-0.005967</td>\n",
       "      <td>3.123273e-01</td>\n",
       "      <td>7.604716e-01</td>\n",
       "      <td>1.000000e+00</td>\n",
       "      <td>9.913273e-01</td>\n",
       "      <td>9.914013e-01</td>\n",
       "      <td>3.549649e-19</td>\n",
       "    </tr>\n",
       "    <tr>\n",
       "      <th>mean_ranking_per_city</th>\n",
       "      <td>0.584524</td>\n",
       "      <td>0.709097</td>\n",
       "      <td>0.004968</td>\n",
       "      <td>0.024956</td>\n",
       "      <td>-0.057871</td>\n",
       "      <td>0.004616</td>\n",
       "      <td>-0.014737</td>\n",
       "      <td>-6.178472e-02</td>\n",
       "      <td>7.929609e-02</td>\n",
       "      <td>0.025262</td>\n",
       "      <td>...</td>\n",
       "      <td>0.006545</td>\n",
       "      <td>-0.004909</td>\n",
       "      <td>-0.025080</td>\n",
       "      <td>-0.006253</td>\n",
       "      <td>2.861461e-01</td>\n",
       "      <td>7.660097e-01</td>\n",
       "      <td>9.913273e-01</td>\n",
       "      <td>1.000000e+00</td>\n",
       "      <td>9.999602e-01</td>\n",
       "      <td>-2.682893e-17</td>\n",
       "    </tr>\n",
       "    <tr>\n",
       "      <th>max_per_city</th>\n",
       "      <td>0.584518</td>\n",
       "      <td>0.709068</td>\n",
       "      <td>0.005115</td>\n",
       "      <td>0.025243</td>\n",
       "      <td>-0.057841</td>\n",
       "      <td>0.004591</td>\n",
       "      <td>-0.014849</td>\n",
       "      <td>-6.246479e-02</td>\n",
       "      <td>7.863929e-02</td>\n",
       "      <td>0.025285</td>\n",
       "      <td>...</td>\n",
       "      <td>0.006576</td>\n",
       "      <td>-0.004947</td>\n",
       "      <td>-0.024780</td>\n",
       "      <td>-0.006287</td>\n",
       "      <td>2.841870e-01</td>\n",
       "      <td>7.642717e-01</td>\n",
       "      <td>9.914013e-01</td>\n",
       "      <td>9.999602e-01</td>\n",
       "      <td>1.000000e+00</td>\n",
       "      <td>-7.022589e-18</td>\n",
       "    </tr>\n",
       "    <tr>\n",
       "      <th>StandRanking</th>\n",
       "      <td>0.471015</td>\n",
       "      <td>0.572731</td>\n",
       "      <td>-0.043903</td>\n",
       "      <td>-0.402045</td>\n",
       "      <td>0.167953</td>\n",
       "      <td>0.001934</td>\n",
       "      <td>-0.169010</td>\n",
       "      <td>1.310317e-17</td>\n",
       "      <td>-4.537942e-17</td>\n",
       "      <td>-0.004045</td>\n",
       "      <td>...</td>\n",
       "      <td>-0.007024</td>\n",
       "      <td>-0.007702</td>\n",
       "      <td>-0.543131</td>\n",
       "      <td>0.414832</td>\n",
       "      <td>-2.144969e-17</td>\n",
       "      <td>1.105419e-17</td>\n",
       "      <td>3.549649e-19</td>\n",
       "      <td>-2.682893e-17</td>\n",
       "      <td>-7.022589e-18</td>\n",
       "      <td>1.000000e+00</td>\n",
       "    </tr>\n",
       "  </tbody>\n",
       "</table>\n",
       "<p>143 rows × 143 columns</p>\n",
       "</div>"
      ],
      "text/plain": [
       "                       Restaurant_id   Ranking  Price Range  \\\n",
       "Restaurant_id               1.000000  0.825090    -0.020504   \n",
       "Ranking                     0.825090  1.000000    -0.026334   \n",
       "Price Range                -0.020504 -0.026334     1.000000   \n",
       "Number of Reviews          -0.184113 -0.221099     0.109173   \n",
       "ID_TA                       0.039769  0.049756    -0.061790   \n",
       "...                              ...       ...          ...   \n",
       "population                  0.447221  0.543175    -0.012326   \n",
       "numberofrestaraunts         0.579373  0.702947    -0.000878   \n",
       "mean_ranking_per_city       0.584524  0.709097     0.004968   \n",
       "max_per_city                0.584518  0.709068     0.005115   \n",
       "StandRanking                0.471015  0.572731    -0.043903   \n",
       "\n",
       "                       Number of Reviews     ID_TA    sample    Rating  \\\n",
       "Restaurant_id                  -0.184113  0.039769 -0.147500 -0.257137   \n",
       "Ranking                        -0.221099  0.049756  0.006271 -0.109897   \n",
       "Price Range                     0.109173 -0.061790 -0.003419 -0.012176   \n",
       "Number of Reviews               1.000000 -0.285681  0.002597  0.011016   \n",
       "ID_TA                          -0.285681  1.000000 -0.000315  0.049589   \n",
       "...                                  ...       ...       ...       ...   \n",
       "population                      0.015866 -0.016486  0.007352 -0.009902   \n",
       "numberofrestaraunts             0.041647 -0.057216  0.005096 -0.011432   \n",
       "mean_ranking_per_city           0.024956 -0.057871  0.004616 -0.014737   \n",
       "max_per_city                    0.025243 -0.057841  0.004591 -0.014849   \n",
       "StandRanking                   -0.402045  0.167953  0.001934 -0.169010   \n",
       "\n",
       "                            Is_Rome     is_Madrid  Fast Food  ...     Welsh  \\\n",
       "Restaurant_id         -3.682285e-02  4.459520e-02   0.014511  ... -0.006843   \n",
       "Ranking               -4.381133e-02  5.622859e-02   0.021050  ... -0.005372   \n",
       "Price Range           -5.026609e-02  2.507473e-02  -0.277461  ...  0.014480   \n",
       "Number of Reviews      1.339693e-01 -2.303411e-02  -0.000467  ...  0.002362   \n",
       "ID_TA                 -1.801501e-02  5.478965e-02   0.030407  ... -0.001426   \n",
       "...                             ...           ...        ...  ...       ...   \n",
       "population            -3.429475e-02  3.237745e-01   0.044067  ...  0.007534   \n",
       "numberofrestaraunts    6.192838e-02  9.138917e-02   0.026842  ...  0.006074   \n",
       "mean_ranking_per_city -6.178472e-02  7.929609e-02   0.025262  ...  0.006545   \n",
       "max_per_city          -6.246479e-02  7.863929e-02   0.025285  ...  0.006576   \n",
       "StandRanking           1.310317e-17 -4.537942e-17  -0.004045  ... -0.007024   \n",
       "\n",
       "                         Arabic  Count_Cuisine  last_rewiew    is_capital  \\\n",
       "Restaurant_id         -0.008903      -0.260829     0.186023  1.664816e-01   \n",
       "Ranking               -0.008148      -0.322408     0.225972  2.029052e-01   \n",
       "Price Range           -0.005581       0.002816    -0.021784 -8.802856e-03   \n",
       "Number of Reviews     -0.005313       0.405531    -0.295735  1.402115e-02   \n",
       "ID_TA                  0.021993      -0.220469    -0.065795 -7.272126e-03   \n",
       "...                         ...            ...          ...           ...   \n",
       "population            -0.004817       0.021236    -0.029518  1.899469e-01   \n",
       "numberofrestaraunts   -0.005902      -0.016131    -0.005967  3.123273e-01   \n",
       "mean_ranking_per_city -0.004909      -0.025080    -0.006253  2.861461e-01   \n",
       "max_per_city          -0.004947      -0.024780    -0.006287  2.841870e-01   \n",
       "StandRanking          -0.007702      -0.543131     0.414832 -2.144969e-17   \n",
       "\n",
       "                         population  numberofrestaraunts  \\\n",
       "Restaurant_id          4.472211e-01         5.793726e-01   \n",
       "Ranking                5.431748e-01         7.029468e-01   \n",
       "Price Range           -1.232563e-02        -8.778200e-04   \n",
       "Number of Reviews      1.586567e-02         4.164672e-02   \n",
       "ID_TA                 -1.648572e-02        -5.721574e-02   \n",
       "...                             ...                  ...   \n",
       "population             1.000000e+00         7.604716e-01   \n",
       "numberofrestaraunts    7.604716e-01         1.000000e+00   \n",
       "mean_ranking_per_city  7.660097e-01         9.913273e-01   \n",
       "max_per_city           7.642717e-01         9.914013e-01   \n",
       "StandRanking           1.105419e-17         3.549649e-19   \n",
       "\n",
       "                       mean_ranking_per_city  max_per_city  StandRanking  \n",
       "Restaurant_id                   5.845240e-01  5.845179e-01  4.710148e-01  \n",
       "Ranking                         7.090966e-01  7.090684e-01  5.727314e-01  \n",
       "Price Range                     4.967909e-03  5.115437e-03 -4.390265e-02  \n",
       "Number of Reviews               2.495585e-02  2.524303e-02 -4.020454e-01  \n",
       "ID_TA                          -5.787101e-02 -5.784117e-02  1.679534e-01  \n",
       "...                                      ...           ...           ...  \n",
       "population                      7.660097e-01  7.642717e-01  1.105419e-17  \n",
       "numberofrestaraunts             9.913273e-01  9.914013e-01  3.549649e-19  \n",
       "mean_ranking_per_city           1.000000e+00  9.999602e-01 -2.682893e-17  \n",
       "max_per_city                    9.999602e-01  1.000000e+00 -7.022589e-18  \n",
       "StandRanking                   -2.682893e-17 -7.022589e-18  1.000000e+00  \n",
       "\n",
       "[143 rows x 143 columns]"
      ]
     },
     "execution_count": 174,
     "metadata": {},
     "output_type": "execute_result"
    }
   ],
   "source": [
    "data.corr()"
   ]
  },
  {
   "cell_type": "code",
   "execution_count": 175,
   "metadata": {},
   "outputs": [
    {
     "name": "stderr",
     "output_type": "stream",
     "text": [
      "[Parallel(n_jobs=-1)]: Using backend ThreadingBackend with 4 concurrent workers.\n",
      "[Parallel(n_jobs=-1)]: Done  42 tasks      | elapsed:   24.5s\n",
      "[Parallel(n_jobs=-1)]: Done 100 out of 100 | elapsed:   47.1s finished\n",
      "[Parallel(n_jobs=4)]: Using backend ThreadingBackend with 4 concurrent workers.\n",
      "[Parallel(n_jobs=4)]: Done  42 tasks      | elapsed:    0.0s\n",
      "[Parallel(n_jobs=4)]: Done 100 out of 100 | elapsed:    0.1s finished\n"
     ]
    },
    {
     "data": {
      "text/plain": [
       "0.1713125"
      ]
     },
     "execution_count": 175,
     "metadata": {},
     "output_type": "execute_result"
    },
    {
     "data": {
      "image/png": "[encoded data removed]",
      "text/plain": [
       "<Figure size 360x360 with 1 Axes>"
      ]
     },
     "metadata": {
      "needs_background": "light"
     },
     "output_type": "display_data"
    }
   ],
   "source": [
    "model_func(data.drop(columns=['City', 'Cuisine Style', 'URL_TA', 'country', 'Reviews'\n",
    "                              ]))"
   ]
  },
  {
   "cell_type": "code",
   "execution_count": 177,
   "metadata": {},
   "outputs": [
    {
     "data": {
      "text/html": [
       "<div>\n",
       "<style scoped>\n",
       "    .dataframe tbody tr th:only-of-type {\n",
       "        vertical-align: middle;\n",
       "    }\n",
       "\n",
       "    .dataframe tbody tr th {\n",
       "        vertical-align: top;\n",
       "    }\n",
       "\n",
       "    .dataframe thead th {\n",
       "        text-align: right;\n",
       "    }\n",
       "</style>\n",
       "<table border=\"1\" class=\"dataframe\">\n",
       "  <thead>\n",
       "    <tr style=\"text-align: right;\">\n",
       "      <th></th>\n",
       "      <th>Restaurant_id</th>\n",
       "      <th>Ranking</th>\n",
       "      <th>Price Range</th>\n",
       "      <th>Number of Reviews</th>\n",
       "      <th>Reviews</th>\n",
       "      <th>ID_TA</th>\n",
       "      <th>sample</th>\n",
       "      <th>Rating</th>\n",
       "      <th>Is_Rome</th>\n",
       "      <th>is_Madrid</th>\n",
       "      <th>...</th>\n",
       "      <th>Welsh</th>\n",
       "      <th>Arabic</th>\n",
       "      <th>Count_Cuisine</th>\n",
       "      <th>last_rewiew</th>\n",
       "      <th>is_capital</th>\n",
       "      <th>population</th>\n",
       "      <th>numberofrestaraunts</th>\n",
       "      <th>mean_ranking_per_city</th>\n",
       "      <th>max_per_city</th>\n",
       "      <th>StandRanking</th>\n",
       "    </tr>\n",
       "  </thead>\n",
       "  <tbody>\n",
       "    <tr>\n",
       "      <th>0</th>\n",
       "      <td>0</td>\n",
       "      <td>12963.0</td>\n",
       "      <td>2</td>\n",
       "      <td>4.0</td>\n",
       "      <td>[[], []]</td>\n",
       "      <td>10746918</td>\n",
       "      <td>0</td>\n",
       "      <td>0.0</td>\n",
       "      <td>0</td>\n",
       "      <td>0</td>\n",
       "      <td>...</td>\n",
       "      <td>0</td>\n",
       "      <td>0</td>\n",
       "      <td>2</td>\n",
       "      <td>5.036953</td>\n",
       "      <td>1</td>\n",
       "      <td>2148000</td>\n",
       "      <td>16684</td>\n",
       "      <td>6938.557138</td>\n",
       "      <td>13986.0</td>\n",
       "      <td>0.430748</td>\n",
       "    </tr>\n",
       "    <tr>\n",
       "      <th>1</th>\n",
       "      <td>1</td>\n",
       "      <td>106.0</td>\n",
       "      <td>2</td>\n",
       "      <td>97.0</td>\n",
       "      <td>[['Very good reviews!', 'Fine dining in Hakani...</td>\n",
       "      <td>6674944</td>\n",
       "      <td>0</td>\n",
       "      <td>0.0</td>\n",
       "      <td>0</td>\n",
       "      <td>0</td>\n",
       "      <td>...</td>\n",
       "      <td>0</td>\n",
       "      <td>0</td>\n",
       "      <td>5</td>\n",
       "      <td>4.430817</td>\n",
       "      <td>1</td>\n",
       "      <td>631000</td>\n",
       "      <td>1478</td>\n",
       "      <td>564.231579</td>\n",
       "      <td>1141.0</td>\n",
       "      <td>-0.401605</td>\n",
       "    </tr>\n",
       "    <tr>\n",
       "      <th>2</th>\n",
       "      <td>2</td>\n",
       "      <td>810.0</td>\n",
       "      <td>2</td>\n",
       "      <td>28.0</td>\n",
       "      <td>[['Better than the Links', 'Ivy Black'], ['12/...</td>\n",
       "      <td>13129638</td>\n",
       "      <td>0</td>\n",
       "      <td>0.0</td>\n",
       "      <td>0</td>\n",
       "      <td>0</td>\n",
       "      <td>...</td>\n",
       "      <td>0</td>\n",
       "      <td>0</td>\n",
       "      <td>1</td>\n",
       "      <td>4.110874</td>\n",
       "      <td>1</td>\n",
       "      <td>488000</td>\n",
       "      <td>1852</td>\n",
       "      <td>885.130201</td>\n",
       "      <td>1766.0</td>\n",
       "      <td>-0.042543</td>\n",
       "    </tr>\n",
       "    <tr>\n",
       "      <th>3</th>\n",
       "      <td>3</td>\n",
       "      <td>1669.0</td>\n",
       "      <td>3</td>\n",
       "      <td>202.0</td>\n",
       "      <td>[['Most exquisite', 'Delicious and authentic']...</td>\n",
       "      <td>680417</td>\n",
       "      <td>0</td>\n",
       "      <td>0.0</td>\n",
       "      <td>0</td>\n",
       "      <td>0</td>\n",
       "      <td>...</td>\n",
       "      <td>0</td>\n",
       "      <td>0</td>\n",
       "      <td>5</td>\n",
       "      <td>4.418841</td>\n",
       "      <td>1</td>\n",
       "      <td>8899000</td>\n",
       "      <td>19374</td>\n",
       "      <td>8169.707354</td>\n",
       "      <td>16444.0</td>\n",
       "      <td>-0.395324</td>\n",
       "    </tr>\n",
       "    <tr>\n",
       "      <th>4</th>\n",
       "      <td>4</td>\n",
       "      <td>37.0</td>\n",
       "      <td>3</td>\n",
       "      <td>162.0</td>\n",
       "      <td>[['Always the best in bratislava', 'Very good ...</td>\n",
       "      <td>1112354</td>\n",
       "      <td>0</td>\n",
       "      <td>0.0</td>\n",
       "      <td>0</td>\n",
       "      <td>0</td>\n",
       "      <td>...</td>\n",
       "      <td>0</td>\n",
       "      <td>0</td>\n",
       "      <td>6</td>\n",
       "      <td>2.944439</td>\n",
       "      <td>1</td>\n",
       "      <td>424000</td>\n",
       "      <td>1201</td>\n",
       "      <td>462.428947</td>\n",
       "      <td>889.0</td>\n",
       "      <td>-0.478548</td>\n",
       "    </tr>\n",
       "    <tr>\n",
       "      <th>...</th>\n",
       "      <td>...</td>\n",
       "      <td>...</td>\n",
       "      <td>...</td>\n",
       "      <td>...</td>\n",
       "      <td>...</td>\n",
       "      <td>...</td>\n",
       "      <td>...</td>\n",
       "      <td>...</td>\n",
       "      <td>...</td>\n",
       "      <td>...</td>\n",
       "      <td>...</td>\n",
       "      <td>...</td>\n",
       "      <td>...</td>\n",
       "      <td>...</td>\n",
       "      <td>...</td>\n",
       "      <td>...</td>\n",
       "      <td>...</td>\n",
       "      <td>...</td>\n",
       "      <td>...</td>\n",
       "      <td>...</td>\n",
       "      <td>...</td>\n",
       "    </tr>\n",
       "    <tr>\n",
       "      <th>49995</th>\n",
       "      <td>499</td>\n",
       "      <td>500.0</td>\n",
       "      <td>2</td>\n",
       "      <td>79.0</td>\n",
       "      <td>[['The real Italian experience!', 'Wonderful f...</td>\n",
       "      <td>2104414</td>\n",
       "      <td>1</td>\n",
       "      <td>4.5</td>\n",
       "      <td>0</td>\n",
       "      <td>0</td>\n",
       "      <td>...</td>\n",
       "      <td>0</td>\n",
       "      <td>0</td>\n",
       "      <td>4</td>\n",
       "      <td>4.290459</td>\n",
       "      <td>0</td>\n",
       "      <td>1352000</td>\n",
       "      <td>7000</td>\n",
       "      <td>3106.027840</td>\n",
       "      <td>6275.0</td>\n",
       "      <td>-0.415303</td>\n",
       "    </tr>\n",
       "    <tr>\n",
       "      <th>49996</th>\n",
       "      <td>6340</td>\n",
       "      <td>6341.0</td>\n",
       "      <td>2</td>\n",
       "      <td>542.0</td>\n",
       "      <td>[['Parisian atmosphere', 'Bit pricey but inter...</td>\n",
       "      <td>1800036</td>\n",
       "      <td>1</td>\n",
       "      <td>3.5</td>\n",
       "      <td>0</td>\n",
       "      <td>0</td>\n",
       "      <td>...</td>\n",
       "      <td>0</td>\n",
       "      <td>0</td>\n",
       "      <td>5</td>\n",
       "      <td>4.219508</td>\n",
       "      <td>1</td>\n",
       "      <td>2148000</td>\n",
       "      <td>16684</td>\n",
       "      <td>6938.557138</td>\n",
       "      <td>13986.0</td>\n",
       "      <td>-0.042725</td>\n",
       "    </tr>\n",
       "    <tr>\n",
       "      <th>49997</th>\n",
       "      <td>1649</td>\n",
       "      <td>1652.0</td>\n",
       "      <td>2</td>\n",
       "      <td>4.0</td>\n",
       "      <td>[['Good by swedish standards', 'A hidden jewel...</td>\n",
       "      <td>947615</td>\n",
       "      <td>1</td>\n",
       "      <td>4.5</td>\n",
       "      <td>0</td>\n",
       "      <td>0</td>\n",
       "      <td>...</td>\n",
       "      <td>0</td>\n",
       "      <td>0</td>\n",
       "      <td>2</td>\n",
       "      <td>6.175867</td>\n",
       "      <td>1</td>\n",
       "      <td>974000</td>\n",
       "      <td>2882</td>\n",
       "      <td>1237.482091</td>\n",
       "      <td>2464.0</td>\n",
       "      <td>0.168230</td>\n",
       "    </tr>\n",
       "    <tr>\n",
       "      <th>49998</th>\n",
       "      <td>640</td>\n",
       "      <td>641.0</td>\n",
       "      <td>2</td>\n",
       "      <td>70.0</td>\n",
       "      <td>[['Underground restaurant', 'Oldest Restaurant...</td>\n",
       "      <td>1100838</td>\n",
       "      <td>1</td>\n",
       "      <td>4.0</td>\n",
       "      <td>0</td>\n",
       "      <td>0</td>\n",
       "      <td>...</td>\n",
       "      <td>0</td>\n",
       "      <td>0</td>\n",
       "      <td>5</td>\n",
       "      <td>5.442418</td>\n",
       "      <td>1</td>\n",
       "      <td>1708000</td>\n",
       "      <td>3040</td>\n",
       "      <td>1055.193514</td>\n",
       "      <td>2154.0</td>\n",
       "      <td>-0.192290</td>\n",
       "    </tr>\n",
       "    <tr>\n",
       "      <th>49999</th>\n",
       "      <td>4824</td>\n",
       "      <td>4827.0</td>\n",
       "      <td>2</td>\n",
       "      <td>260.0</td>\n",
       "      <td>[['Average', 'Nice an informal'], ['01/31/2016...</td>\n",
       "      <td>1109020</td>\n",
       "      <td>1</td>\n",
       "      <td>3.0</td>\n",
       "      <td>0</td>\n",
       "      <td>0</td>\n",
       "      <td>...</td>\n",
       "      <td>0</td>\n",
       "      <td>0</td>\n",
       "      <td>1</td>\n",
       "      <td>6.630683</td>\n",
       "      <td>0</td>\n",
       "      <td>1352000</td>\n",
       "      <td>7000</td>\n",
       "      <td>3106.027840</td>\n",
       "      <td>6275.0</td>\n",
       "      <td>0.274259</td>\n",
       "    </tr>\n",
       "  </tbody>\n",
       "</table>\n",
       "<p>50000 rows × 144 columns</p>\n",
       "</div>"
      ],
      "text/plain": [
       "       Restaurant_id  Ranking  Price Range  Number of Reviews  \\\n",
       "0                  0  12963.0            2                4.0   \n",
       "1                  1    106.0            2               97.0   \n",
       "2                  2    810.0            2               28.0   \n",
       "3                  3   1669.0            3              202.0   \n",
       "4                  4     37.0            3              162.0   \n",
       "...              ...      ...          ...                ...   \n",
       "49995            499    500.0            2               79.0   \n",
       "49996           6340   6341.0            2              542.0   \n",
       "49997           1649   1652.0            2                4.0   \n",
       "49998            640    641.0            2               70.0   \n",
       "49999           4824   4827.0            2              260.0   \n",
       "\n",
       "                                                 Reviews     ID_TA  sample  \\\n",
       "0                                               [[], []]  10746918       0   \n",
       "1      [['Very good reviews!', 'Fine dining in Hakani...   6674944       0   \n",
       "2      [['Better than the Links', 'Ivy Black'], ['12/...  13129638       0   \n",
       "3      [['Most exquisite', 'Delicious and authentic']...    680417       0   \n",
       "4      [['Always the best in bratislava', 'Very good ...   1112354       0   \n",
       "...                                                  ...       ...     ...   \n",
       "49995  [['The real Italian experience!', 'Wonderful f...   2104414       1   \n",
       "49996  [['Parisian atmosphere', 'Bit pricey but inter...   1800036       1   \n",
       "49997  [['Good by swedish standards', 'A hidden jewel...    947615       1   \n",
       "49998  [['Underground restaurant', 'Oldest Restaurant...   1100838       1   \n",
       "49999  [['Average', 'Nice an informal'], ['01/31/2016...   1109020       1   \n",
       "\n",
       "       Rating  Is_Rome  is_Madrid  ...  Welsh  Arabic  Count_Cuisine  \\\n",
       "0         0.0        0          0  ...      0       0              2   \n",
       "1         0.0        0          0  ...      0       0              5   \n",
       "2         0.0        0          0  ...      0       0              1   \n",
       "3         0.0        0          0  ...      0       0              5   \n",
       "4         0.0        0          0  ...      0       0              6   \n",
       "...       ...      ...        ...  ...    ...     ...            ...   \n",
       "49995     4.5        0          0  ...      0       0              4   \n",
       "49996     3.5        0          0  ...      0       0              5   \n",
       "49997     4.5        0          0  ...      0       0              2   \n",
       "49998     4.0        0          0  ...      0       0              5   \n",
       "49999     3.0        0          0  ...      0       0              1   \n",
       "\n",
       "       last_rewiew  is_capital  population  numberofrestaraunts  \\\n",
       "0         5.036953           1     2148000                16684   \n",
       "1         4.430817           1      631000                 1478   \n",
       "2         4.110874           1      488000                 1852   \n",
       "3         4.418841           1     8899000                19374   \n",
       "4         2.944439           1      424000                 1201   \n",
       "...            ...         ...         ...                  ...   \n",
       "49995     4.290459           0     1352000                 7000   \n",
       "49996     4.219508           1     2148000                16684   \n",
       "49997     6.175867           1      974000                 2882   \n",
       "49998     5.442418           1     1708000                 3040   \n",
       "49999     6.630683           0     1352000                 7000   \n",
       "\n",
       "       mean_ranking_per_city  max_per_city  StandRanking  \n",
       "0                6938.557138       13986.0      0.430748  \n",
       "1                 564.231579        1141.0     -0.401605  \n",
       "2                 885.130201        1766.0     -0.042543  \n",
       "3                8169.707354       16444.0     -0.395324  \n",
       "4                 462.428947         889.0     -0.478548  \n",
       "...                      ...           ...           ...  \n",
       "49995            3106.027840        6275.0     -0.415303  \n",
       "49996            6938.557138       13986.0     -0.042725  \n",
       "49997            1237.482091        2464.0      0.168230  \n",
       "49998            1055.193514        2154.0     -0.192290  \n",
       "49999            3106.027840        6275.0      0.274259  \n",
       "\n",
       "[50000 rows x 144 columns]"
      ]
     },
     "execution_count": 177,
     "metadata": {},
     "output_type": "execute_result"
    }
   ],
   "source": [
    "data.drop(columns=['City', 'Cuisine Style','URL_TA','country'\n",
    "])"
   ]
  },
  {
   "cell_type": "markdown",
   "metadata": {},
   "source": [
    "Получается, что Ranking имеет нормальное распределение, просто в больших городах больше ресторанов, из-за мы этого имеем смещение.\n",
    "\n",
    ">Подумайте как из этого можно сделать признак для вашей модели. Я покажу вам пример, как визуализация помогает находить взаимосвязи. А далее действуйте без подсказок =) \n"
   ]
  },
  {
   "cell_type": "markdown",
   "metadata": {},
   "source": [
    "### Посмотрим распределение целевой переменной"
   ]
  },
  {
   "cell_type": "code",
   "execution_count": 178,
   "metadata": {},
   "outputs": [
    {
     "data": {
      "text/plain": [
       "<matplotlib.axes._subplots.AxesSubplot at 0x1ec4f04f5b0>"
      ]
     },
     "execution_count": 178,
     "metadata": {},
     "output_type": "execute_result"
    },
    {
     "data": {
      "image/png": "[encoded data removed]",
      "text/plain": [
       "<Figure size 360x360 with 1 Axes>"
      ]
     },
     "metadata": {
      "needs_background": "light"
     },
     "output_type": "display_data"
    }
   ],
   "source": [
    "df_train['Rating'].value_counts(ascending=True).plot(kind='barh')"
   ]
  },
  {
   "cell_type": "markdown",
   "metadata": {},
   "source": [
    "### Посмотрим распределение целевой переменной относительно признака"
   ]
  },
  {
   "cell_type": "code",
   "execution_count": 179,
   "metadata": {},
   "outputs": [
    {
     "data": {
      "text/plain": [
       "<matplotlib.axes._subplots.AxesSubplot at 0x1ec51a1fd90>"
      ]
     },
     "execution_count": 179,
     "metadata": {},
     "output_type": "execute_result"
    },
    {
     "data": {
      "image/png": "[encoded data removed]",
      "text/plain": [
       "<Figure size 360x360 with 1 Axes>"
      ]
     },
     "metadata": {
      "needs_background": "light"
     },
     "output_type": "display_data"
    }
   ],
   "source": [
    "df_train['Ranking'][df_train['Rating'] == 5].hist(bins=100)"
   ]
  },
  {
   "cell_type": "code",
   "execution_count": 181,
   "metadata": {},
   "outputs": [
    {
     "data": {
      "text/plain": [
       "<matplotlib.axes._subplots.AxesSubplot at 0x1ec4fdafd00>"
      ]
     },
     "execution_count": 181,
     "metadata": {},
     "output_type": "execute_result"
    },
    {
     "data": {
      "image/png": "[encoded data removed]",
      "text/plain": [
       "<Figure size 360x360 with 1 Axes>"
      ]
     },
     "metadata": {
      "needs_background": "light"
     },
     "output_type": "display_data"
    }
   ],
   "source": [
    "df_train['Ranking'][df_train['Rating'] < 4].hist(bins=100)"
   ]
  },
  {
   "cell_type": "markdown",
   "metadata": {},
   "source": [
    "### И один из моих любимых - [корреляция признаков](https://ru.wikipedia.org/wiki/Корреляция)\n",
    "На этом графике уже сейчас вы сможете заметить, как признаки связаны между собой и с целевой переменной."
   ]
  },
  {
   "cell_type": "code",
   "execution_count": null,
   "metadata": {},
   "outputs": [],
   "source": [
    "plt.rcParams['figure.figsize'] = (15,10)\n",
    "sns.heatmap(data.drop(['sample'], axis=1).corr(),)"
   ]
  },
  {
   "cell_type": "markdown",
   "metadata": {},
   "source": [
    "Вообще благодаря визуализации в этом датасете можно узнать много интересных фактов, например:\n",
    "* где больше Пицерий в Мадриде или Лондоне?\n",
    "* в каком городе кухня ресторанов более разнообразна?\n",
    "\n",
    "придумайте свои вопрос и найдите на него ответ в данных)"
   ]
  },
  {
   "cell_type": "markdown",
   "metadata": {},
   "source": [
    "# Data Preprocessing\n",
    "Теперь, для удобства и воспроизводимости кода, завернем всю обработку в одну большую функцию."
   ]
  },
  {
   "cell_type": "code",
   "execution_count": 312,
   "metadata": {},
   "outputs": [
    {
     "name": "stdout",
     "output_type": "stream",
     "text": [
      "<class 'pandas.core.frame.DataFrame'>\n",
      "RangeIndex: 50000 entries, 0 to 49999\n",
      "Data columns (total 11 columns):\n",
      " #   Column             Non-Null Count  Dtype  \n",
      "---  ------             --------------  -----  \n",
      " 0   Restaurant_id      50000 non-null  object \n",
      " 1   City               50000 non-null  object \n",
      " 2   Cuisine Style      38410 non-null  object \n",
      " 3   Ranking            50000 non-null  float64\n",
      " 4   Price Range        32639 non-null  object \n",
      " 5   Number of Reviews  46800 non-null  float64\n",
      " 6   Reviews            49998 non-null  object \n",
      " 7   URL_TA             50000 non-null  object \n",
      " 8   ID_TA              50000 non-null  object \n",
      " 9   sample             50000 non-null  int64  \n",
      " 10  Rating             50000 non-null  float64\n",
      "dtypes: float64(3), int64(1), object(7)\n",
      "memory usage: 4.2+ MB\n"
     ]
    }
   ],
   "source": [
    "# на всякий случай, заново подгружаем данные\n",
    "df_train = pd.read_csv('main_task.csv')\n",
    "df_test = pd.read_csv('kaggle_task.csv')\n",
    "#df_train = pd.read_csv('main_task.csv')\n",
    "#df_test = pd.read_csv('kaggle_task.csv')\n",
    "df_train['sample'] = 1 # помечаем где у нас трейн\n",
    "df_test['sample'] = 0 # помечаем где у нас тест\n",
    "df_test['Rating'] = 0 # в тесте у нас нет значения Rating, мы его должны предсказать, по этому пока просто заполняем нулями\n",
    "\n",
    "data = df_test.append(df_train, sort=False).reset_index(drop=True) # объединяем\n",
    "data.info()"
   ]
  },
  {
   "cell_type": "code",
   "execution_count": 315,
   "metadata": {},
   "outputs": [],
   "source": [
    "def preproc_data(df_input):\n",
    "    '''includes several functions to pre-process the predictor data.'''\n",
    "\n",
    "    df_output = df_input.copy()\n",
    "\n",
    "    # ################### 1. Предобработка ##############################################################\n",
    "    # убираем не нужные для модели признаки\n",
    "\n",
    "    # ################### 2. NAN ##############################################################\n",
    "    # Далее заполняем пропуски, вы можете попробовать заполнением средним или средним по городу и тд...\n",
    "\n",
    "    # df_output['Number of Reviews'] = df_output['Number of Reviews'].fillna(\n",
    "    # df_output['Number of Reviews'].median())#+\n",
    "\n",
    "    df_output['Price Range'] = df_output['Price Range'].fillna('$$ - $$$')\n",
    "    #df_output['Cuisine Style'] = df_output['Cuisine Style'].fillna('Other')\n",
    "    #df_output['ID_TA'] = df_output.ID_TA.apply(lambda x: int(x[1:]))\n",
    "    # тут ваш код по обработке NAN\n",
    "    # ....\n",
    "\n",
    "    # ################### 3. Encoding ##############################################################\n",
    "    # для One-Hot Encoding в pandas есть готовая функция - get_dummies. Особенно радует параметр dummy_na\n",
    "    # cities=pd.get_dummies(df_output['City'],dummy_na=True)\n",
    "    #df_output=pd.concat([cities, df_output], axis=1)\n",
    "    df_output['Is_Rome'] = df_output['City'].apply(\n",
    "        lambda x: 1 if x == 'Rome' else 0)\n",
    "    df_output['is_Madrid'] = df_output['City'].apply(\n",
    "        lambda x: 1 if x == 'Madrid' else 0)\n",
    "\n",
    "    # тут ваш код не Encoding фитчей\n",
    "\n",
    "    df_output['Price Range'] = df_output['Price Range'].apply(\n",
    "        lambda x: 2 if x == '$$ - $$$' else 1 if x == '$' else 3)\n",
    "\n",
    "    # df_output['Cuisine Style'] = df_output['Cuisine Style'].apply(\n",
    "    # lambda x: str(x)[1:-1].replace(\"'\", '') if not pd.isnull(x) else x)\n",
    "    df_output['Restaurant_id'] = df_output.Restaurant_id.apply(\n",
    "        lambda x: int(str(x[3:])))\n",
    "\n",
    "    # ################### 4. Feature Engineering ####################################################\n",
    "    # тут ваш код не генерацию новых фитчей\n",
    "    df_output['Count_Cuisine'] = df_output['Cuisine Style'].apply(\n",
    "        lambda x: len(str(x).split(', ')))\n",
    "\n",
    " \n",
    "    df_output = df_output.apply(Feature_def, axis=1)\n",
    "    \n",
    "\n",
    "    pattern = re.compile('\\d\\d?/\\d\\d?/\\d+')\n",
    "    #df_output = df_output.apply(time, axis=1)\n",
    "    df_output['last_rewiew'] = df_output['last_rewiew'].fillna(\n",
    "        df_output['last_rewiew'].quantile())\n",
    "    df_output['last_rewiew'] = pd.to_timedelta(\n",
    "        (max(df_output['last_rewiew'])-df_output['last_rewiew'])).apply(lambda x: x.days)\n",
    "\n",
    "    #df_output = df_output.apply(city_stats, axis=1)\n",
    "    df_output = pd.get_dummies(df_output, columns=['country', ], dummy_na=True)\n",
    "\n",
    "    mean_per_city = df_output.groupby('City')['Ranking'].mean()\n",
    "    df_output['mean_ranking_per_city'] = df_output['City'].apply(\n",
    "        lambda x: mean_per_city[x])\n",
    "    #  масмимальный ранкинг для каждого города\n",
    "    max_per_city = df_output.groupby('City')['Ranking'].max()\n",
    "    df_output['max_per_city'] = df_output['City'].apply(\n",
    "        lambda x: max_per_city[x])\n",
    "\n",
    "\n",
    "# стандартизация\n",
    "    df_output['StandRanking'] = (\n",
    "        df_output['Ranking'] - df_output['mean_ranking_per_city']) / df_output['max_per_city']\n",
    "    df_output['StandRanking_test'] = round(df_output['StandRanking'], 2)\n",
    "    df_output['Number of Reviews'] = df_output.groupby(\n",
    "        ['StandRanking_test'])['Number of Reviews'].apply(lambda x: x.fillna(x.mean()))\n",
    "\n",
    "    # ################### 5. Clean ####################################################\n",
    "    # убираем признаки которые еще не успели обработать,\n",
    "    # модель на признаках с dtypes \"object\" обучаться не будет, просто выберим их и удалим\n",
    "    object_columns = [\n",
    "        s for s in df_output.columns if df_output[s].dtypes == 'object']\n",
    "    df_output.drop(object_columns, axis=1, inplace=True)\n",
    "    df_output.drop(columns=['StandRanking_test',\n",
    "                            'Restaurant_id'], inplace=True)\n",
    "\n",
    "    return df_output"
   ]
  },
  {
   "cell_type": "markdown",
   "metadata": {},
   "source": [
    ">По хорошему, можно было бы перевести эту большую функцию в класс и разбить на подфункции (согласно ООП). "
   ]
  },
  {
   "cell_type": "markdown",
   "metadata": {},
   "source": [
    "#### Запускаем и проверяем что получилось"
   ]
  },
  {
   "cell_type": "code",
   "execution_count": 316,
   "metadata": {
    "scrolled": true
   },
   "outputs": [
    {
     "data": {
      "text/html": [
       "<div>\n",
       "<style scoped>\n",
       "    .dataframe tbody tr th:only-of-type {\n",
       "        vertical-align: middle;\n",
       "    }\n",
       "\n",
       "    .dataframe tbody tr th {\n",
       "        vertical-align: top;\n",
       "    }\n",
       "\n",
       "    .dataframe thead th {\n",
       "        text-align: right;\n",
       "    }\n",
       "</style>\n",
       "<table border=\"1\" class=\"dataframe\">\n",
       "  <thead>\n",
       "    <tr style=\"text-align: right;\">\n",
       "      <th></th>\n",
       "      <th>Ranking</th>\n",
       "      <th>Price Range</th>\n",
       "      <th>Number of Reviews</th>\n",
       "      <th>sample</th>\n",
       "      <th>Rating</th>\n",
       "      <th>Is_Rome</th>\n",
       "      <th>is_Madrid</th>\n",
       "      <th>Count_Cuisine</th>\n",
       "      <th>feed_polarity1</th>\n",
       "      <th>feed_subjectivity1</th>\n",
       "      <th>...</th>\n",
       "      <th>country_Slovenia</th>\n",
       "      <th>country_Spain</th>\n",
       "      <th>country_Sweden</th>\n",
       "      <th>country_Switzerland</th>\n",
       "      <th>country_The Czech Republic</th>\n",
       "      <th>country_The Netherlands</th>\n",
       "      <th>country_nan</th>\n",
       "      <th>mean_ranking_per_city</th>\n",
       "      <th>max_per_city</th>\n",
       "      <th>StandRanking</th>\n",
       "    </tr>\n",
       "  </thead>\n",
       "  <tbody>\n",
       "    <tr>\n",
       "      <th>36514</th>\n",
       "      <td>3976.0</td>\n",
       "      <td>2</td>\n",
       "      <td>210.0</td>\n",
       "      <td>1</td>\n",
       "      <td>4.0</td>\n",
       "      <td>0</td>\n",
       "      <td>0</td>\n",
       "      <td>5</td>\n",
       "      <td>0.375000</td>\n",
       "      <td>0.500000</td>\n",
       "      <td>...</td>\n",
       "      <td>0</td>\n",
       "      <td>0</td>\n",
       "      <td>0</td>\n",
       "      <td>0</td>\n",
       "      <td>0</td>\n",
       "      <td>0</td>\n",
       "      <td>0</td>\n",
       "      <td>8169.707354</td>\n",
       "      <td>16444.0</td>\n",
       "      <td>-0.255030</td>\n",
       "    </tr>\n",
       "    <tr>\n",
       "      <th>27185</th>\n",
       "      <td>2416.0</td>\n",
       "      <td>2</td>\n",
       "      <td>5.0</td>\n",
       "      <td>1</td>\n",
       "      <td>5.0</td>\n",
       "      <td>0</td>\n",
       "      <td>0</td>\n",
       "      <td>1</td>\n",
       "      <td>0.700000</td>\n",
       "      <td>0.600000</td>\n",
       "      <td>...</td>\n",
       "      <td>0</td>\n",
       "      <td>0</td>\n",
       "      <td>0</td>\n",
       "      <td>0</td>\n",
       "      <td>0</td>\n",
       "      <td>0</td>\n",
       "      <td>0</td>\n",
       "      <td>3255.417745</td>\n",
       "      <td>6372.0</td>\n",
       "      <td>-0.131735</td>\n",
       "    </tr>\n",
       "    <tr>\n",
       "      <th>21021</th>\n",
       "      <td>1241.0</td>\n",
       "      <td>2</td>\n",
       "      <td>17.0</td>\n",
       "      <td>1</td>\n",
       "      <td>3.5</td>\n",
       "      <td>0</td>\n",
       "      <td>0</td>\n",
       "      <td>1</td>\n",
       "      <td>0.700000</td>\n",
       "      <td>0.600000</td>\n",
       "      <td>...</td>\n",
       "      <td>0</td>\n",
       "      <td>0</td>\n",
       "      <td>0</td>\n",
       "      <td>0</td>\n",
       "      <td>0</td>\n",
       "      <td>0</td>\n",
       "      <td>0</td>\n",
       "      <td>1375.409781</td>\n",
       "      <td>2737.0</td>\n",
       "      <td>-0.049108</td>\n",
       "    </tr>\n",
       "    <tr>\n",
       "      <th>7663</th>\n",
       "      <td>1246.0</td>\n",
       "      <td>2</td>\n",
       "      <td>26.0</td>\n",
       "      <td>0</td>\n",
       "      <td>0.0</td>\n",
       "      <td>0</td>\n",
       "      <td>1</td>\n",
       "      <td>2</td>\n",
       "      <td>0.000000</td>\n",
       "      <td>0.000000</td>\n",
       "      <td>...</td>\n",
       "      <td>0</td>\n",
       "      <td>1</td>\n",
       "      <td>0</td>\n",
       "      <td>0</td>\n",
       "      <td>0</td>\n",
       "      <td>0</td>\n",
       "      <td>0</td>\n",
       "      <td>4388.516391</td>\n",
       "      <td>8809.0</td>\n",
       "      <td>-0.356739</td>\n",
       "    </tr>\n",
       "    <tr>\n",
       "      <th>3669</th>\n",
       "      <td>14255.0</td>\n",
       "      <td>2</td>\n",
       "      <td>2.0</td>\n",
       "      <td>0</td>\n",
       "      <td>0.0</td>\n",
       "      <td>0</td>\n",
       "      <td>0</td>\n",
       "      <td>1</td>\n",
       "      <td>0.100000</td>\n",
       "      <td>0.650000</td>\n",
       "      <td>...</td>\n",
       "      <td>0</td>\n",
       "      <td>0</td>\n",
       "      <td>0</td>\n",
       "      <td>0</td>\n",
       "      <td>0</td>\n",
       "      <td>0</td>\n",
       "      <td>0</td>\n",
       "      <td>8169.707354</td>\n",
       "      <td>16444.0</td>\n",
       "      <td>0.370062</td>\n",
       "    </tr>\n",
       "    <tr>\n",
       "      <th>40994</th>\n",
       "      <td>13299.0</td>\n",
       "      <td>2</td>\n",
       "      <td>57.0</td>\n",
       "      <td>1</td>\n",
       "      <td>3.5</td>\n",
       "      <td>0</td>\n",
       "      <td>0</td>\n",
       "      <td>2</td>\n",
       "      <td>0.000000</td>\n",
       "      <td>0.000000</td>\n",
       "      <td>...</td>\n",
       "      <td>0</td>\n",
       "      <td>0</td>\n",
       "      <td>0</td>\n",
       "      <td>0</td>\n",
       "      <td>0</td>\n",
       "      <td>0</td>\n",
       "      <td>0</td>\n",
       "      <td>8169.707354</td>\n",
       "      <td>16444.0</td>\n",
       "      <td>0.311925</td>\n",
       "    </tr>\n",
       "    <tr>\n",
       "      <th>26432</th>\n",
       "      <td>1629.0</td>\n",
       "      <td>2</td>\n",
       "      <td>45.0</td>\n",
       "      <td>1</td>\n",
       "      <td>4.5</td>\n",
       "      <td>0</td>\n",
       "      <td>1</td>\n",
       "      <td>1</td>\n",
       "      <td>0.583333</td>\n",
       "      <td>0.666667</td>\n",
       "      <td>...</td>\n",
       "      <td>0</td>\n",
       "      <td>1</td>\n",
       "      <td>0</td>\n",
       "      <td>0</td>\n",
       "      <td>0</td>\n",
       "      <td>0</td>\n",
       "      <td>0</td>\n",
       "      <td>4388.516391</td>\n",
       "      <td>8809.0</td>\n",
       "      <td>-0.313261</td>\n",
       "    </tr>\n",
       "    <tr>\n",
       "      <th>37784</th>\n",
       "      <td>2659.0</td>\n",
       "      <td>1</td>\n",
       "      <td>57.0</td>\n",
       "      <td>1</td>\n",
       "      <td>4.5</td>\n",
       "      <td>0</td>\n",
       "      <td>0</td>\n",
       "      <td>6</td>\n",
       "      <td>0.600000</td>\n",
       "      <td>0.702381</td>\n",
       "      <td>...</td>\n",
       "      <td>0</td>\n",
       "      <td>1</td>\n",
       "      <td>0</td>\n",
       "      <td>0</td>\n",
       "      <td>0</td>\n",
       "      <td>0</td>\n",
       "      <td>0</td>\n",
       "      <td>3879.422680</td>\n",
       "      <td>7796.0</td>\n",
       "      <td>-0.156545</td>\n",
       "    </tr>\n",
       "    <tr>\n",
       "      <th>30198</th>\n",
       "      <td>364.0</td>\n",
       "      <td>2</td>\n",
       "      <td>99.0</td>\n",
       "      <td>1</td>\n",
       "      <td>4.0</td>\n",
       "      <td>0</td>\n",
       "      <td>0</td>\n",
       "      <td>5</td>\n",
       "      <td>0.000000</td>\n",
       "      <td>0.000000</td>\n",
       "      <td>...</td>\n",
       "      <td>0</td>\n",
       "      <td>0</td>\n",
       "      <td>0</td>\n",
       "      <td>0</td>\n",
       "      <td>0</td>\n",
       "      <td>0</td>\n",
       "      <td>0</td>\n",
       "      <td>1541.901826</td>\n",
       "      <td>3006.0</td>\n",
       "      <td>-0.391850</td>\n",
       "    </tr>\n",
       "    <tr>\n",
       "      <th>8357</th>\n",
       "      <td>1309.0</td>\n",
       "      <td>2</td>\n",
       "      <td>5.0</td>\n",
       "      <td>0</td>\n",
       "      <td>0.0</td>\n",
       "      <td>0</td>\n",
       "      <td>0</td>\n",
       "      <td>1</td>\n",
       "      <td>-0.062500</td>\n",
       "      <td>0.600000</td>\n",
       "      <td>...</td>\n",
       "      <td>0</td>\n",
       "      <td>0</td>\n",
       "      <td>0</td>\n",
       "      <td>1</td>\n",
       "      <td>0</td>\n",
       "      <td>0</td>\n",
       "      <td>0</td>\n",
       "      <td>794.280292</td>\n",
       "      <td>1601.0</td>\n",
       "      <td>0.321499</td>\n",
       "    </tr>\n",
       "  </tbody>\n",
       "</table>\n",
       "<p>10 rows × 43 columns</p>\n",
       "</div>"
      ],
      "text/plain": [
       "       Ranking  Price Range  Number of Reviews  sample  Rating  Is_Rome  \\\n",
       "36514   3976.0            2              210.0       1     4.0        0   \n",
       "27185   2416.0            2                5.0       1     5.0        0   \n",
       "21021   1241.0            2               17.0       1     3.5        0   \n",
       "7663    1246.0            2               26.0       0     0.0        0   \n",
       "3669   14255.0            2                2.0       0     0.0        0   \n",
       "40994  13299.0            2               57.0       1     3.5        0   \n",
       "26432   1629.0            2               45.0       1     4.5        0   \n",
       "37784   2659.0            1               57.0       1     4.5        0   \n",
       "30198    364.0            2               99.0       1     4.0        0   \n",
       "8357    1309.0            2                5.0       0     0.0        0   \n",
       "\n",
       "       is_Madrid  Count_Cuisine  feed_polarity1  feed_subjectivity1  ...  \\\n",
       "36514          0              5        0.375000            0.500000  ...   \n",
       "27185          0              1        0.700000            0.600000  ...   \n",
       "21021          0              1        0.700000            0.600000  ...   \n",
       "7663           1              2        0.000000            0.000000  ...   \n",
       "3669           0              1        0.100000            0.650000  ...   \n",
       "40994          0              2        0.000000            0.000000  ...   \n",
       "26432          1              1        0.583333            0.666667  ...   \n",
       "37784          0              6        0.600000            0.702381  ...   \n",
       "30198          0              5        0.000000            0.000000  ...   \n",
       "8357           0              1       -0.062500            0.600000  ...   \n",
       "\n",
       "       country_Slovenia  country_Spain  country_Sweden  country_Switzerland  \\\n",
       "36514                 0              0               0                    0   \n",
       "27185                 0              0               0                    0   \n",
       "21021                 0              0               0                    0   \n",
       "7663                  0              1               0                    0   \n",
       "3669                  0              0               0                    0   \n",
       "40994                 0              0               0                    0   \n",
       "26432                 0              1               0                    0   \n",
       "37784                 0              1               0                    0   \n",
       "30198                 0              0               0                    0   \n",
       "8357                  0              0               0                    1   \n",
       "\n",
       "       country_The Czech Republic  country_The Netherlands  country_nan  \\\n",
       "36514                           0                        0            0   \n",
       "27185                           0                        0            0   \n",
       "21021                           0                        0            0   \n",
       "7663                            0                        0            0   \n",
       "3669                            0                        0            0   \n",
       "40994                           0                        0            0   \n",
       "26432                           0                        0            0   \n",
       "37784                           0                        0            0   \n",
       "30198                           0                        0            0   \n",
       "8357                            0                        0            0   \n",
       "\n",
       "       mean_ranking_per_city  max_per_city  StandRanking  \n",
       "36514            8169.707354       16444.0     -0.255030  \n",
       "27185            3255.417745        6372.0     -0.131735  \n",
       "21021            1375.409781        2737.0     -0.049108  \n",
       "7663             4388.516391        8809.0     -0.356739  \n",
       "3669             8169.707354       16444.0      0.370062  \n",
       "40994            8169.707354       16444.0      0.311925  \n",
       "26432            4388.516391        8809.0     -0.313261  \n",
       "37784            3879.422680        7796.0     -0.156545  \n",
       "30198            1541.901826        3006.0     -0.391850  \n",
       "8357              794.280292        1601.0      0.321499  \n",
       "\n",
       "[10 rows x 43 columns]"
      ]
     },
     "execution_count": 316,
     "metadata": {},
     "output_type": "execute_result"
    }
   ],
   "source": [
    "df_preproc = preproc_data(data)\n",
    "df_preproc.sample(10)"
   ]
  },
  {
   "cell_type": "code",
   "execution_count": 317,
   "metadata": {},
   "outputs": [
    {
     "name": "stderr",
     "output_type": "stream",
     "text": [
      "[Parallel(n_jobs=-1)]: Using backend ThreadingBackend with 4 concurrent workers.\n",
      "[Parallel(n_jobs=-1)]: Done  42 tasks      | elapsed:    5.1s\n",
      "[Parallel(n_jobs=-1)]: Done 100 out of 100 | elapsed:   13.1s finished\n",
      "[Parallel(n_jobs=4)]: Using backend ThreadingBackend with 4 concurrent workers.\n",
      "[Parallel(n_jobs=4)]: Done  42 tasks      | elapsed:    0.0s\n",
      "[Parallel(n_jobs=4)]: Done 100 out of 100 | elapsed:    0.0s finished\n"
     ]
    },
    {
     "data": {
      "text/plain": [
       "0.177125"
      ]
     },
     "execution_count": 317,
     "metadata": {},
     "output_type": "execute_result"
    },
    {
     "data": {
      "image/png": "[encoded data removed]",
      "text/plain": [
       "<Figure size 360x360 with 1 Axes>"
      ]
     },
     "metadata": {
      "needs_background": "light"
     },
     "output_type": "display_data"
    }
   ],
   "source": [
    "model_func(df_preproc)"
   ]
  },
  {
   "cell_type": "code",
   "execution_count": 245,
   "metadata": {},
   "outputs": [
    {
     "name": "stdout",
     "output_type": "stream",
     "text": [
      "<class 'pandas.core.frame.DataFrame'>\n",
      "RangeIndex: 50000 entries, 0 to 49999\n",
      "Data columns (total 41 columns):\n",
      " #   Column                      Non-Null Count  Dtype  \n",
      "---  ------                      --------------  -----  \n",
      " 0   Ranking                     50000 non-null  float64\n",
      " 1   Price Range                 50000 non-null  int64  \n",
      " 2   Number of Reviews           50000 non-null  float64\n",
      " 3   sample                      50000 non-null  int64  \n",
      " 4   Rating                      50000 non-null  float64\n",
      " 5   Is_Rome                     50000 non-null  int64  \n",
      " 6   is_Madrid                   50000 non-null  int64  \n",
      " 7   Count_Cuisine               50000 non-null  int64  \n",
      " 8   feed_polarity1              50000 non-null  float64\n",
      " 9   feed_subjectivity1          50000 non-null  float64\n",
      " 10  last_rewiew                 50000 non-null  int64  \n",
      " 11  is_capital                  50000 non-null  int64  \n",
      " 12  population                  50000 non-null  int64  \n",
      " 13  numberofrestaraunts         50000 non-null  int64  \n",
      " 14  country_Austria             50000 non-null  uint8  \n",
      " 15  country_Belgium             50000 non-null  uint8  \n",
      " 16  country_Denmark             50000 non-null  uint8  \n",
      " 17  country_England             50000 non-null  uint8  \n",
      " 18  country_Finland             50000 non-null  uint8  \n",
      " 19  country_France              50000 non-null  uint8  \n",
      " 20  country_Germany             50000 non-null  uint8  \n",
      " 21  country_Greece              50000 non-null  uint8  \n",
      " 22  country_Hungary             50000 non-null  uint8  \n",
      " 23  country_Ireland             50000 non-null  uint8  \n",
      " 24  country_Italy               50000 non-null  uint8  \n",
      " 25  country_Luxembourg          50000 non-null  uint8  \n",
      " 26  country_Norway              50000 non-null  uint8  \n",
      " 27  country_Poland              50000 non-null  uint8  \n",
      " 28  country_Portugal            50000 non-null  uint8  \n",
      " 29  country_Scotland            50000 non-null  uint8  \n",
      " 30  country_Slovakia            50000 non-null  uint8  \n",
      " 31  country_Slovenia            50000 non-null  uint8  \n",
      " 32  country_Spain               50000 non-null  uint8  \n",
      " 33  country_Sweden              50000 non-null  uint8  \n",
      " 34  country_Switzerland         50000 non-null  uint8  \n",
      " 35  country_The Czech Republic  50000 non-null  uint8  \n",
      " 36  country_The Netherlands     50000 non-null  uint8  \n",
      " 37  country_nan                 50000 non-null  uint8  \n",
      " 38  mean_ranking_per_city       50000 non-null  float64\n",
      " 39  max_per_city                50000 non-null  float64\n",
      " 40  StandRanking                50000 non-null  float64\n",
      "dtypes: float64(8), int64(9), uint8(24)\n",
      "memory usage: 7.6 MB\n"
     ]
    }
   ],
   "source": [
    "df_preproc.info()"
   ]
  },
  {
   "cell_type": "code",
   "execution_count": null,
   "metadata": {},
   "outputs": [],
   "source": []
  },
  {
   "cell_type": "code",
   "execution_count": 246,
   "metadata": {},
   "outputs": [],
   "source": [
    "# Теперь выделим тестовую часть\n",
    "train_data = df_preproc.query('sample == 1').drop(['sample'], axis=1)\n",
    "test_data = df_preproc.query('sample == 0').drop(['sample'], axis=1)\n",
    "\n",
    "y = train_data.Rating.values            # наш таргет\n",
    "X = train_data.drop(['Rating'], axis=1)"
   ]
  },
  {
   "cell_type": "markdown",
   "metadata": {},
   "source": [
    "**Перед тем как отправлять наши данные на обучение, разделим данные на еще один тест и трейн, для валидации. \n",
    "Это поможет нам проверить, как хорошо наша модель работает, до отправки submissiona на kaggle.**"
   ]
  },
  {
   "cell_type": "code",
   "execution_count": 247,
   "metadata": {},
   "outputs": [],
   "source": [
    "# Воспользуемся специальной функцие train_test_split для разбивки тестовых данных\n",
    "# выделим 20% данных на валидацию (параметр test_size)\n",
    "X_train, X_test, y_train, y_test = train_test_split(X, y, test_size=0.2, random_state=RANDOM_SEED)"
   ]
  },
  {
   "cell_type": "code",
   "execution_count": 248,
   "metadata": {},
   "outputs": [
    {
     "data": {
      "text/plain": [
       "((10000, 40), (40000, 40), (40000, 39), (32000, 39), (8000, 39))"
      ]
     },
     "execution_count": 248,
     "metadata": {},
     "output_type": "execute_result"
    }
   ],
   "source": [
    "# проверяем\n",
    "test_data.shape, train_data.shape, X.shape, X_train.shape, X_test.shape"
   ]
  },
  {
   "cell_type": "markdown",
   "metadata": {},
   "source": [
    "# Model \n",
    "Сам ML"
   ]
  },
  {
   "cell_type": "code",
   "execution_count": 249,
   "metadata": {},
   "outputs": [],
   "source": [
    "# Импортируем необходимые библиотеки:\n",
    "from sklearn.ensemble import RandomForestRegressor # инструмент для создания и обучения модели\n",
    "from sklearn import metrics # инструменты для оценки точности модели"
   ]
  },
  {
   "cell_type": "code",
   "execution_count": 250,
   "metadata": {},
   "outputs": [],
   "source": [
    "# Создаём модель (НАСТРОЙКИ НЕ ТРОГАЕМ)\n",
    "model = RandomForestRegressor(n_estimators=100, verbose=1, n_jobs=-1, random_state=RANDOM_SEED)"
   ]
  },
  {
   "cell_type": "code",
   "execution_count": 251,
   "metadata": {},
   "outputs": [
    {
     "name": "stderr",
     "output_type": "stream",
     "text": [
      "[Parallel(n_jobs=-1)]: Using backend ThreadingBackend with 4 concurrent workers.\n",
      "[Parallel(n_jobs=-1)]: Done  42 tasks      | elapsed:    6.9s\n",
      "[Parallel(n_jobs=-1)]: Done 100 out of 100 | elapsed:   15.1s finished\n",
      "[Parallel(n_jobs=4)]: Using backend ThreadingBackend with 4 concurrent workers.\n",
      "[Parallel(n_jobs=4)]: Done  42 tasks      | elapsed:    0.0s\n",
      "[Parallel(n_jobs=4)]: Done 100 out of 100 | elapsed:    0.0s finished\n"
     ]
    }
   ],
   "source": [
    "# Обучаем модель на тестовом наборе данных\n",
    "model.fit(X_train, y_train)\n",
    "\n",
    "# Используем обученную модель для предсказания рейтинга ресторанов в тестовой выборке.\n",
    "# Предсказанные значения записываем в переменную y_pred\n",
    "y_pred = model.predict(X_test)\n",
    "y_pred = round_of_rating(y_pred)"
   ]
  },
  {
   "cell_type": "code",
   "execution_count": 252,
   "metadata": {},
   "outputs": [
    {
     "name": "stdout",
     "output_type": "stream",
     "text": [
      "MAE: 0.1753125\n"
     ]
    }
   ],
   "source": [
    "# Сравниваем предсказанные значения (y_pred) с реальными (y_test), и смотрим насколько они в среднем отличаются\n",
    "# Метрика называется Mean Absolute Error (MAE) и показывает среднее отклонение предсказанных значений от фактических.\n",
    "print('MAE:', metrics.mean_absolute_error(y_test, y_pred))"
   ]
  },
  {
   "cell_type": "code",
   "execution_count": 253,
   "metadata": {},
   "outputs": [
    {
     "data": {
      "text/plain": [
       "<matplotlib.axes._subplots.AxesSubplot at 0x1ec56ad7d90>"
      ]
     },
     "execution_count": 253,
     "metadata": {},
     "output_type": "execute_result"
    },
    {
     "data": {
      "image/png": "[encoded data removed]",
      "text/plain": [
       "<Figure size 720x720 with 1 Axes>"
      ]
     },
     "metadata": {
      "needs_background": "light"
     },
     "output_type": "display_data"
    }
   ],
   "source": [
    "# в RandomForestRegressor есть возможность вывести самые важные признаки для модели\n",
    "plt.rcParams['figure.figsize'] = (10,10)\n",
    "feat_importances = pd.Series(model.feature_importances_, index=X.columns)\n",
    "feat_importances.nlargest(15).plot(kind='barh')"
   ]
  },
  {
   "cell_type": "markdown",
   "metadata": {},
   "source": [
    "# Submission\n",
    "Если все устраевает - готовим Submission на кагл"
   ]
  },
  {
   "cell_type": "code",
   "execution_count": 254,
   "metadata": {},
   "outputs": [
    {
     "data": {
      "text/html": [
       "<div>\n",
       "<style scoped>\n",
       "    .dataframe tbody tr th:only-of-type {\n",
       "        vertical-align: middle;\n",
       "    }\n",
       "\n",
       "    .dataframe tbody tr th {\n",
       "        vertical-align: top;\n",
       "    }\n",
       "\n",
       "    .dataframe thead th {\n",
       "        text-align: right;\n",
       "    }\n",
       "</style>\n",
       "<table border=\"1\" class=\"dataframe\">\n",
       "  <thead>\n",
       "    <tr style=\"text-align: right;\">\n",
       "      <th></th>\n",
       "      <th>Ranking</th>\n",
       "      <th>Price Range</th>\n",
       "      <th>Number of Reviews</th>\n",
       "      <th>Rating</th>\n",
       "      <th>Is_Rome</th>\n",
       "      <th>is_Madrid</th>\n",
       "      <th>Count_Cuisine</th>\n",
       "      <th>feed_polarity1</th>\n",
       "      <th>feed_subjectivity1</th>\n",
       "      <th>last_rewiew</th>\n",
       "      <th>...</th>\n",
       "      <th>country_Slovenia</th>\n",
       "      <th>country_Spain</th>\n",
       "      <th>country_Sweden</th>\n",
       "      <th>country_Switzerland</th>\n",
       "      <th>country_The Czech Republic</th>\n",
       "      <th>country_The Netherlands</th>\n",
       "      <th>country_nan</th>\n",
       "      <th>mean_ranking_per_city</th>\n",
       "      <th>max_per_city</th>\n",
       "      <th>StandRanking</th>\n",
       "    </tr>\n",
       "  </thead>\n",
       "  <tbody>\n",
       "    <tr>\n",
       "      <th>2007</th>\n",
       "      <td>138.0</td>\n",
       "      <td>2</td>\n",
       "      <td>58.0</td>\n",
       "      <td>0.0</td>\n",
       "      <td>0</td>\n",
       "      <td>0</td>\n",
       "      <td>2</td>\n",
       "      <td>0.1500</td>\n",
       "      <td>0.700</td>\n",
       "      <td>144</td>\n",
       "      <td>...</td>\n",
       "      <td>1</td>\n",
       "      <td>0</td>\n",
       "      <td>0</td>\n",
       "      <td>0</td>\n",
       "      <td>0</td>\n",
       "      <td>0</td>\n",
       "      <td>0</td>\n",
       "      <td>234.509009</td>\n",
       "      <td>468.0</td>\n",
       "      <td>-0.206216</td>\n",
       "    </tr>\n",
       "    <tr>\n",
       "      <th>198</th>\n",
       "      <td>4502.0</td>\n",
       "      <td>2</td>\n",
       "      <td>5.0</td>\n",
       "      <td>0.0</td>\n",
       "      <td>0</td>\n",
       "      <td>1</td>\n",
       "      <td>4</td>\n",
       "      <td>0.0000</td>\n",
       "      <td>0.000</td>\n",
       "      <td>153</td>\n",
       "      <td>...</td>\n",
       "      <td>0</td>\n",
       "      <td>1</td>\n",
       "      <td>0</td>\n",
       "      <td>0</td>\n",
       "      <td>0</td>\n",
       "      <td>0</td>\n",
       "      <td>0</td>\n",
       "      <td>4388.516391</td>\n",
       "      <td>8809.0</td>\n",
       "      <td>0.012883</td>\n",
       "    </tr>\n",
       "    <tr>\n",
       "      <th>5422</th>\n",
       "      <td>3643.0</td>\n",
       "      <td>2</td>\n",
       "      <td>106.0</td>\n",
       "      <td>0.0</td>\n",
       "      <td>0</td>\n",
       "      <td>0</td>\n",
       "      <td>3</td>\n",
       "      <td>0.2750</td>\n",
       "      <td>0.575</td>\n",
       "      <td>274</td>\n",
       "      <td>...</td>\n",
       "      <td>0</td>\n",
       "      <td>0</td>\n",
       "      <td>0</td>\n",
       "      <td>0</td>\n",
       "      <td>0</td>\n",
       "      <td>0</td>\n",
       "      <td>0</td>\n",
       "      <td>6938.557138</td>\n",
       "      <td>13986.0</td>\n",
       "      <td>-0.235633</td>\n",
       "    </tr>\n",
       "    <tr>\n",
       "      <th>8266</th>\n",
       "      <td>2670.0</td>\n",
       "      <td>2</td>\n",
       "      <td>12.0</td>\n",
       "      <td>0.0</td>\n",
       "      <td>0</td>\n",
       "      <td>0</td>\n",
       "      <td>1</td>\n",
       "      <td>0.2000</td>\n",
       "      <td>0.200</td>\n",
       "      <td>162</td>\n",
       "      <td>...</td>\n",
       "      <td>0</td>\n",
       "      <td>0</td>\n",
       "      <td>0</td>\n",
       "      <td>0</td>\n",
       "      <td>0</td>\n",
       "      <td>0</td>\n",
       "      <td>0</td>\n",
       "      <td>1867.330298</td>\n",
       "      <td>3717.0</td>\n",
       "      <td>0.215946</td>\n",
       "    </tr>\n",
       "    <tr>\n",
       "      <th>920</th>\n",
       "      <td>1948.0</td>\n",
       "      <td>1</td>\n",
       "      <td>10.0</td>\n",
       "      <td>0.0</td>\n",
       "      <td>0</td>\n",
       "      <td>0</td>\n",
       "      <td>2</td>\n",
       "      <td>0.0000</td>\n",
       "      <td>0.000</td>\n",
       "      <td>277</td>\n",
       "      <td>...</td>\n",
       "      <td>0</td>\n",
       "      <td>0</td>\n",
       "      <td>0</td>\n",
       "      <td>0</td>\n",
       "      <td>0</td>\n",
       "      <td>1</td>\n",
       "      <td>0</td>\n",
       "      <td>1591.589650</td>\n",
       "      <td>3254.0</td>\n",
       "      <td>0.109530</td>\n",
       "    </tr>\n",
       "    <tr>\n",
       "      <th>2699</th>\n",
       "      <td>404.0</td>\n",
       "      <td>3</td>\n",
       "      <td>91.0</td>\n",
       "      <td>0.0</td>\n",
       "      <td>0</td>\n",
       "      <td>0</td>\n",
       "      <td>4</td>\n",
       "      <td>0.0000</td>\n",
       "      <td>0.000</td>\n",
       "      <td>13</td>\n",
       "      <td>...</td>\n",
       "      <td>0</td>\n",
       "      <td>0</td>\n",
       "      <td>0</td>\n",
       "      <td>0</td>\n",
       "      <td>0</td>\n",
       "      <td>0</td>\n",
       "      <td>0</td>\n",
       "      <td>1541.901826</td>\n",
       "      <td>3006.0</td>\n",
       "      <td>-0.378544</td>\n",
       "    </tr>\n",
       "    <tr>\n",
       "      <th>8984</th>\n",
       "      <td>678.0</td>\n",
       "      <td>2</td>\n",
       "      <td>98.0</td>\n",
       "      <td>0.0</td>\n",
       "      <td>0</td>\n",
       "      <td>0</td>\n",
       "      <td>8</td>\n",
       "      <td>0.9375</td>\n",
       "      <td>0.900</td>\n",
       "      <td>105</td>\n",
       "      <td>...</td>\n",
       "      <td>0</td>\n",
       "      <td>0</td>\n",
       "      <td>0</td>\n",
       "      <td>0</td>\n",
       "      <td>1</td>\n",
       "      <td>0</td>\n",
       "      <td>0</td>\n",
       "      <td>2086.979626</td>\n",
       "      <td>4188.0</td>\n",
       "      <td>-0.336433</td>\n",
       "    </tr>\n",
       "    <tr>\n",
       "      <th>3217</th>\n",
       "      <td>10426.0</td>\n",
       "      <td>2</td>\n",
       "      <td>7.0</td>\n",
       "      <td>0.0</td>\n",
       "      <td>0</td>\n",
       "      <td>0</td>\n",
       "      <td>1</td>\n",
       "      <td>1.0000</td>\n",
       "      <td>1.000</td>\n",
       "      <td>1962</td>\n",
       "      <td>...</td>\n",
       "      <td>0</td>\n",
       "      <td>0</td>\n",
       "      <td>0</td>\n",
       "      <td>0</td>\n",
       "      <td>0</td>\n",
       "      <td>0</td>\n",
       "      <td>0</td>\n",
       "      <td>6938.557138</td>\n",
       "      <td>13986.0</td>\n",
       "      <td>0.249352</td>\n",
       "    </tr>\n",
       "    <tr>\n",
       "      <th>7627</th>\n",
       "      <td>627.0</td>\n",
       "      <td>2</td>\n",
       "      <td>128.0</td>\n",
       "      <td>0.0</td>\n",
       "      <td>0</td>\n",
       "      <td>0</td>\n",
       "      <td>7</td>\n",
       "      <td>0.9000</td>\n",
       "      <td>1.000</td>\n",
       "      <td>59</td>\n",
       "      <td>...</td>\n",
       "      <td>0</td>\n",
       "      <td>0</td>\n",
       "      <td>0</td>\n",
       "      <td>0</td>\n",
       "      <td>0</td>\n",
       "      <td>0</td>\n",
       "      <td>0</td>\n",
       "      <td>972.127990</td>\n",
       "      <td>1960.0</td>\n",
       "      <td>-0.176086</td>\n",
       "    </tr>\n",
       "    <tr>\n",
       "      <th>6127</th>\n",
       "      <td>984.0</td>\n",
       "      <td>2</td>\n",
       "      <td>35.0</td>\n",
       "      <td>0.0</td>\n",
       "      <td>0</td>\n",
       "      <td>0</td>\n",
       "      <td>5</td>\n",
       "      <td>1.0000</td>\n",
       "      <td>1.000</td>\n",
       "      <td>189</td>\n",
       "      <td>...</td>\n",
       "      <td>0</td>\n",
       "      <td>0</td>\n",
       "      <td>0</td>\n",
       "      <td>0</td>\n",
       "      <td>0</td>\n",
       "      <td>0</td>\n",
       "      <td>0</td>\n",
       "      <td>3106.027840</td>\n",
       "      <td>6275.0</td>\n",
       "      <td>-0.338172</td>\n",
       "    </tr>\n",
       "  </tbody>\n",
       "</table>\n",
       "<p>10 rows × 40 columns</p>\n",
       "</div>"
      ],
      "text/plain": [
       "      Ranking  Price Range  Number of Reviews  Rating  Is_Rome  is_Madrid  \\\n",
       "2007    138.0            2               58.0     0.0        0          0   \n",
       "198    4502.0            2                5.0     0.0        0          1   \n",
       "5422   3643.0            2              106.0     0.0        0          0   \n",
       "8266   2670.0            2               12.0     0.0        0          0   \n",
       "920    1948.0            1               10.0     0.0        0          0   \n",
       "2699    404.0            3               91.0     0.0        0          0   \n",
       "8984    678.0            2               98.0     0.0        0          0   \n",
       "3217  10426.0            2                7.0     0.0        0          0   \n",
       "7627    627.0            2              128.0     0.0        0          0   \n",
       "6127    984.0            2               35.0     0.0        0          0   \n",
       "\n",
       "      Count_Cuisine  feed_polarity1  feed_subjectivity1  last_rewiew  ...  \\\n",
       "2007              2          0.1500               0.700          144  ...   \n",
       "198               4          0.0000               0.000          153  ...   \n",
       "5422              3          0.2750               0.575          274  ...   \n",
       "8266              1          0.2000               0.200          162  ...   \n",
       "920               2          0.0000               0.000          277  ...   \n",
       "2699              4          0.0000               0.000           13  ...   \n",
       "8984              8          0.9375               0.900          105  ...   \n",
       "3217              1          1.0000               1.000         1962  ...   \n",
       "7627              7          0.9000               1.000           59  ...   \n",
       "6127              5          1.0000               1.000          189  ...   \n",
       "\n",
       "      country_Slovenia  country_Spain  country_Sweden  country_Switzerland  \\\n",
       "2007                 1              0               0                    0   \n",
       "198                  0              1               0                    0   \n",
       "5422                 0              0               0                    0   \n",
       "8266                 0              0               0                    0   \n",
       "920                  0              0               0                    0   \n",
       "2699                 0              0               0                    0   \n",
       "8984                 0              0               0                    0   \n",
       "3217                 0              0               0                    0   \n",
       "7627                 0              0               0                    0   \n",
       "6127                 0              0               0                    0   \n",
       "\n",
       "      country_The Czech Republic  country_The Netherlands  country_nan  \\\n",
       "2007                           0                        0            0   \n",
       "198                            0                        0            0   \n",
       "5422                           0                        0            0   \n",
       "8266                           0                        0            0   \n",
       "920                            0                        1            0   \n",
       "2699                           0                        0            0   \n",
       "8984                           1                        0            0   \n",
       "3217                           0                        0            0   \n",
       "7627                           0                        0            0   \n",
       "6127                           0                        0            0   \n",
       "\n",
       "      mean_ranking_per_city  max_per_city  StandRanking  \n",
       "2007             234.509009         468.0     -0.206216  \n",
       "198             4388.516391        8809.0      0.012883  \n",
       "5422            6938.557138       13986.0     -0.235633  \n",
       "8266            1867.330298        3717.0      0.215946  \n",
       "920             1591.589650        3254.0      0.109530  \n",
       "2699            1541.901826        3006.0     -0.378544  \n",
       "8984            2086.979626        4188.0     -0.336433  \n",
       "3217            6938.557138       13986.0      0.249352  \n",
       "7627             972.127990        1960.0     -0.176086  \n",
       "6127            3106.027840        6275.0     -0.338172  \n",
       "\n",
       "[10 rows x 40 columns]"
      ]
     },
     "execution_count": 254,
     "metadata": {},
     "output_type": "execute_result"
    }
   ],
   "source": [
    "test_data.sample(10)"
   ]
  },
  {
   "cell_type": "code",
   "execution_count": 255,
   "metadata": {},
   "outputs": [],
   "source": [
    "test_data = test_data.drop(['Rating'], axis=1)"
   ]
  },
  {
   "cell_type": "code",
   "execution_count": 256,
   "metadata": {},
   "outputs": [
    {
     "data": {
      "text/html": [
       "<div>\n",
       "<style scoped>\n",
       "    .dataframe tbody tr th:only-of-type {\n",
       "        vertical-align: middle;\n",
       "    }\n",
       "\n",
       "    .dataframe tbody tr th {\n",
       "        vertical-align: top;\n",
       "    }\n",
       "\n",
       "    .dataframe thead th {\n",
       "        text-align: right;\n",
       "    }\n",
       "</style>\n",
       "<table border=\"1\" class=\"dataframe\">\n",
       "  <thead>\n",
       "    <tr style=\"text-align: right;\">\n",
       "      <th></th>\n",
       "      <th>Restaurant_id</th>\n",
       "      <th>Rating</th>\n",
       "    </tr>\n",
       "  </thead>\n",
       "  <tbody>\n",
       "    <tr>\n",
       "      <th>0</th>\n",
       "      <td>id_0</td>\n",
       "      <td>3.085</td>\n",
       "    </tr>\n",
       "    <tr>\n",
       "      <th>1</th>\n",
       "      <td>id_1</td>\n",
       "      <td>4.185</td>\n",
       "    </tr>\n",
       "    <tr>\n",
       "      <th>2</th>\n",
       "      <td>id_2</td>\n",
       "      <td>4.610</td>\n",
       "    </tr>\n",
       "    <tr>\n",
       "      <th>3</th>\n",
       "      <td>id_3</td>\n",
       "      <td>4.205</td>\n",
       "    </tr>\n",
       "    <tr>\n",
       "      <th>4</th>\n",
       "      <td>id_4</td>\n",
       "      <td>4.530</td>\n",
       "    </tr>\n",
       "    <tr>\n",
       "      <th>...</th>\n",
       "      <td>...</td>\n",
       "      <td>...</td>\n",
       "    </tr>\n",
       "    <tr>\n",
       "      <th>9995</th>\n",
       "      <td>id_9995</td>\n",
       "      <td>4.505</td>\n",
       "    </tr>\n",
       "    <tr>\n",
       "      <th>9996</th>\n",
       "      <td>id_9996</td>\n",
       "      <td>4.140</td>\n",
       "    </tr>\n",
       "    <tr>\n",
       "      <th>9997</th>\n",
       "      <td>id_9997</td>\n",
       "      <td>3.085</td>\n",
       "    </tr>\n",
       "    <tr>\n",
       "      <th>9998</th>\n",
       "      <td>id_9998</td>\n",
       "      <td>4.345</td>\n",
       "    </tr>\n",
       "    <tr>\n",
       "      <th>9999</th>\n",
       "      <td>id_9999</td>\n",
       "      <td>4.415</td>\n",
       "    </tr>\n",
       "  </tbody>\n",
       "</table>\n",
       "<p>10000 rows × 2 columns</p>\n",
       "</div>"
      ],
      "text/plain": [
       "     Restaurant_id  Rating\n",
       "0             id_0   3.085\n",
       "1             id_1   4.185\n",
       "2             id_2   4.610\n",
       "3             id_3   4.205\n",
       "4             id_4   4.530\n",
       "...            ...     ...\n",
       "9995       id_9995   4.505\n",
       "9996       id_9996   4.140\n",
       "9997       id_9997   3.085\n",
       "9998       id_9998   4.345\n",
       "9999       id_9999   4.415\n",
       "\n",
       "[10000 rows x 2 columns]"
      ]
     },
     "execution_count": 256,
     "metadata": {},
     "output_type": "execute_result"
    }
   ],
   "source": [
    "sample_submission"
   ]
  },
  {
   "cell_type": "code",
   "execution_count": 257,
   "metadata": {},
   "outputs": [
    {
     "name": "stderr",
     "output_type": "stream",
     "text": [
      "[Parallel(n_jobs=4)]: Using backend ThreadingBackend with 4 concurrent workers.\n",
      "[Parallel(n_jobs=4)]: Done  42 tasks      | elapsed:    0.0s\n",
      "[Parallel(n_jobs=4)]: Done 100 out of 100 | elapsed:    0.0s finished\n"
     ]
    }
   ],
   "source": [
    "predict_submission = model.predict(test_data)"
   ]
  },
  {
   "cell_type": "code",
   "execution_count": 258,
   "metadata": {},
   "outputs": [
    {
     "data": {
      "text/plain": [
       "array([3.06 , 4.115, 4.49 , ..., 3.045, 4.37 , 4.32 ])"
      ]
     },
     "execution_count": 258,
     "metadata": {},
     "output_type": "execute_result"
    }
   ],
   "source": [
    "predict_submission"
   ]
  },
  {
   "cell_type": "code",
   "execution_count": 261,
   "metadata": {},
   "outputs": [
    {
     "data": {
      "text/html": [
       "<div>\n",
       "<style scoped>\n",
       "    .dataframe tbody tr th:only-of-type {\n",
       "        vertical-align: middle;\n",
       "    }\n",
       "\n",
       "    .dataframe tbody tr th {\n",
       "        vertical-align: top;\n",
       "    }\n",
       "\n",
       "    .dataframe thead th {\n",
       "        text-align: right;\n",
       "    }\n",
       "</style>\n",
       "<table border=\"1\" class=\"dataframe\">\n",
       "  <thead>\n",
       "    <tr style=\"text-align: right;\">\n",
       "      <th></th>\n",
       "      <th>Restaurant_id</th>\n",
       "      <th>Rating</th>\n",
       "    </tr>\n",
       "  </thead>\n",
       "  <tbody>\n",
       "    <tr>\n",
       "      <th>0</th>\n",
       "      <td>id_0</td>\n",
       "      <td>3.0</td>\n",
       "    </tr>\n",
       "    <tr>\n",
       "      <th>1</th>\n",
       "      <td>id_1</td>\n",
       "      <td>4.0</td>\n",
       "    </tr>\n",
       "    <tr>\n",
       "      <th>2</th>\n",
       "      <td>id_2</td>\n",
       "      <td>4.5</td>\n",
       "    </tr>\n",
       "    <tr>\n",
       "      <th>3</th>\n",
       "      <td>id_3</td>\n",
       "      <td>4.0</td>\n",
       "    </tr>\n",
       "    <tr>\n",
       "      <th>4</th>\n",
       "      <td>id_4</td>\n",
       "      <td>4.5</td>\n",
       "    </tr>\n",
       "    <tr>\n",
       "      <th>5</th>\n",
       "      <td>id_5</td>\n",
       "      <td>4.5</td>\n",
       "    </tr>\n",
       "    <tr>\n",
       "      <th>6</th>\n",
       "      <td>id_6</td>\n",
       "      <td>2.0</td>\n",
       "    </tr>\n",
       "    <tr>\n",
       "      <th>7</th>\n",
       "      <td>id_7</td>\n",
       "      <td>2.5</td>\n",
       "    </tr>\n",
       "    <tr>\n",
       "      <th>8</th>\n",
       "      <td>id_8</td>\n",
       "      <td>4.0</td>\n",
       "    </tr>\n",
       "    <tr>\n",
       "      <th>9</th>\n",
       "      <td>id_9</td>\n",
       "      <td>4.5</td>\n",
       "    </tr>\n",
       "  </tbody>\n",
       "</table>\n",
       "</div>"
      ],
      "text/plain": [
       "  Restaurant_id  Rating\n",
       "0          id_0     3.0\n",
       "1          id_1     4.0\n",
       "2          id_2     4.5\n",
       "3          id_3     4.0\n",
       "4          id_4     4.5\n",
       "5          id_5     4.5\n",
       "6          id_6     2.0\n",
       "7          id_7     2.5\n",
       "8          id_8     4.0\n",
       "9          id_9     4.5"
      ]
     },
     "execution_count": 261,
     "metadata": {},
     "output_type": "execute_result"
    }
   ],
   "source": [
    "sample_submission['Rating'] = predict_submission\n",
    "sample_submission['Rating'] = round_of_rating(sample_submission['Rating'])\n",
    "sample_submission.to_csv('submission.csv', index=False)\n",
    "sample_submission.head(10)"
   ]
  },
  {
   "cell_type": "code",
   "execution_count": null,
   "metadata": {},
   "outputs": [],
   "source": []
  },
  {
   "cell_type": "markdown",
   "metadata": {},
   "source": [
    "# What's next?\n",
    "Или что делать, чтоб улучшить результат:\n",
    "* Обработать оставшиеся признаки в понятный для машины формат\n",
    "* Посмотреть, что еще можно извлечь из признаков\n",
    "* Сгенерировать новые признаки\n",
    "* Подгрузить дополнительные данные, например: по населению или благосостоянию городов\n",
    "* Подобрать состав признаков\n",
    "\n",
    "В общем, процесс творческий и весьма увлекательный! Удачи в соревновании!\n"
   ]
  },
  {
   "cell_type": "code",
   "execution_count": null,
   "metadata": {},
   "outputs": [],
   "source": []
  },
  {
   "cell_type": "code",
   "execution_count": null,
   "metadata": {},
   "outputs": [],
   "source": []
  }
 ],
 "metadata": {
  "kernelspec": {
   "display_name": "Python 3",
   "language": "python",
   "name": "python3"
  },
  "language_info": {
   "codemirror_mode": {
    "name": "ipython",
    "version": 3
   },
   "file_extension": ".py",
   "mimetype": "text/x-python",
   "name": "python",
   "nbconvert_exporter": "python",
   "pygments_lexer": "ipython3",
   "version": "3.8.3"
  }
 },
 "nbformat": 4,
 "nbformat_minor": 1
}
