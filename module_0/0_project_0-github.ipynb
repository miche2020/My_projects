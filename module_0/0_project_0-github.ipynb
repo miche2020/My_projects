{
 "cells": [
  {
   "cell_type": "code",
   "execution_count": 1,
   "metadata": {},
   "outputs": [
    {
     "name": "stdout",
     "output_type": "stream",
     "text": [
      "Загадано число от 1 до 100\n",
      "1\n",
      "Угадываемое число больше 1 \n",
      "5\n",
      "Угадываемое число больше 5 \n",
      "10\n",
      "Угадываемое число больше 10 \n",
      "50\n",
      "Угадываемое число меньше 50 \n",
      "30\n",
      "Угадываемое число меньше 30 \n",
      "25\n",
      "Угадываемое число меньше 25 \n",
      "20\n",
      "Угадываемое число меньше 20 \n",
      "18\n",
      "Угадываемое число меньше 18 \n",
      "10\n",
      "Угадываемое число больше 10 \n",
      "12\n",
      "Вы угадали число 12 за 10 попыток.\n"
     ]
    }
   ],
   "source": [
    "import numpy as np\n",
    "count = 0                            # счетчик попыток\n",
    "number = np.random.randint(1,101)    # загадали число\n",
    "print (\"Загадано число от 1 до 100\")\n",
    "\n",
    "while True:                        # бесконечный цикл\n",
    "    predict = int(input())         # предполагаемое число\n",
    "    count += 1                     # плюсуем попытку\n",
    "    if number == predict: break    # выход из цикла, если угадали\n",
    "    elif number > predict: print (f\"Угадываемое число больше {predict} \")\n",
    "    elif number < predict: print (f\"Угадываемое число меньше {predict} \")\n",
    "        \n",
    "print (f\"Вы угадали число {number} за {count} попыток.\")"
   ]
  },
  {
   "cell_type": "code",
   "execution_count": 2,
   "metadata": {},
   "outputs": [
    {
     "name": "stdout",
     "output_type": "stream",
     "text": [
      "Загадано число от 1 до 100\n",
      "Вы угадали число 95 за 95 попыток.\n"
     ]
    }
   ],
   "source": [
    "number = np.random.randint(1,101)    # загадали число\n",
    "print (\"Загадано число от 1 до 100\")\n",
    "for count in range(1,101):         # более компактный вариант счетчика\n",
    "    if number == count: break    # выход из цикла, если угадали      \n",
    "print (f\"Вы угадали число {number} за {count} попыток.\")"
   ]
  },
  {
   "cell_type": "code",
   "execution_count": null,
   "metadata": {},
   "outputs": [],
   "source": [
    "def game_core_v1(number):\n",
    "    '''Просто угадываем на random, никак не используя информацию о больше или меньше.\n",
    "       Функция принимает загаданное число и возвращает число попыток'''\n",
    "    count = 0\n",
    "    while True:\n",
    "        count+=1\n",
    "        predict = np.random.randint(1,101) # предполагаемое число\n",
    "        if number == predict: \n",
    "            return(count) # выход из цикла, если угадали\n",
    "        \n",
    "        \n",
    "def score_game(game_core):\n",
    "    '''Запускаем игру 1000 раз, чтобы узнать, как быстро игра угадывает число'''\n",
    "    count_ls = []\n",
    "    np.random.seed(1)  # фиксируем RANDOM SEED, чтобы ваш эксперимент был воспроизводим!\n",
    "    random_array = np.random.randint(1,101, size=(1000))\n",
    "    for number in random_array:\n",
    "        count_ls.append(game_core(number))\n",
    "    score = int(np.mean(count_ls))\n",
    "    print(f\"Ваш алгоритм угадывает число в среднем за {score} попыток\")\n",
    "    return(score)"
   ]
  }
 ],
 "metadata": {
  "kernelspec": {
   "display_name": "Python 3",
   "language": "python",
   "name": "python3"
  },
  "language_info": {
   "codemirror_mode": {
    "name": "ipython",
    "version": 3
   },
   "file_extension": ".py",
   "mimetype": "text/x-python",
   "name": "python",
   "nbconvert_exporter": "python",
   "pygments_lexer": "ipython3",
   "version": "3.8.3"
  }
 },
 "nbformat": 4,
 "nbformat_minor": 4
}
